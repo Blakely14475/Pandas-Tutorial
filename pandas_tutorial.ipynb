{
 "cells": [
  {
   "cell_type": "markdown",
   "metadata": {
    "slideshow": {
     "slide_type": "slide"
    }
   },
   "source": [
    "# Everyone should use Pandas! (and sometimes astropy tables)\n",
    "* This tutorial is meant to get you started with using Pandas and Astropy tables to organize and work with your data sets \n",
    "\n",
    "* Storing your data as pandas dataframes makes querying and sorting your data, merging different data sets, doing statistics, and visualiziing your data faster, easier, and cleaner. \n",
    "* Pandas also handels messy data and data with missing fields very well \n",
    "* Pandas is a python package widely used to build and work with dataframes. Astropy has a class called Tables which has similar functionality but much more limited and less supported. I introduce it breifly here because it has a few astronomy specific features absent in Pandas that are sometimes useful. For most things the two objects can be used interchangably. "
   ]
  },
  {
   "cell_type": "markdown",
   "metadata": {
    "slideshow": {
     "slide_type": "subslide"
    }
   },
   "source": [
    "## Main documentation for both Pandas, Astropy tables, and Astroquery\n",
    "* [Pandas](http://pandas.pydata.org/pandas-docs/stable/)\n",
    "* [Astropy Tables](http://docs.astropy.org/en/stable/table/)\n",
    "* [Astroquery](https://astroquery.readthedocs.io/en/latest/)"
   ]
  },
  {
   "cell_type": "code",
   "execution_count": 2,
   "metadata": {
    "slideshow": {
     "slide_type": "slide"
    }
   },
   "outputs": [
    {
     "name": "stderr",
     "output_type": "stream",
     "text": [
      "/anaconda3/lib/python3.6/site-packages/astroquery/sdss/__init__.py:29: UserWarning: Experimental: SDSS has not yet been refactored to have its API match the rest of astroquery (but it's nearly there).\n",
      "  warnings.warn(\"Experimental: SDSS has not yet been refactored to have its API \"\n"
     ]
    }
   ],
   "source": [
    "#import all needed python packages\n",
    "from __future__ import print_function\n",
    "import numpy as np\n",
    "import matplotlib.pyplot as plt\n",
    "import seaborn as sns\n",
    "\n",
    "from astropy import units as u\n",
    "from astropy.coordinates import SkyCoord\n",
    "\n",
    "#comment out the next two lines if you do not have astroquery installed\n",
    "from astroquery.sdss import SDSS\n",
    "from astroquery.vizier import Vizier\n",
    "\n",
    "from astropy.table import Table, Column, join\n",
    "import pandas as pd"
   ]
  },
  {
   "cell_type": "markdown",
   "metadata": {
    "slideshow": {
     "slide_type": "slide"
    }
   },
   "source": [
    "## Types of Tables in Pandas\n",
    "1. Series - 1D array, can be build out of a python dictionary \n",
    "2. Dataframes - 2D array "
   ]
  },
  {
   "cell_type": "markdown",
   "metadata": {
    "slideshow": {
     "slide_type": "subslide"
    }
   },
   "source": [
    "### Tables are different from numpy arrays:\n",
    "* Each row in a table is assigned an index. \n",
    "* In a dataframe column also has a name \n",
    "* A numpy array can also be indexed but you can't change what the indecies are named \n",
    "    (always indexed in the same way)\n",
    "* tables can have columns of all different data types "
   ]
  },
  {
   "cell_type": "code",
   "execution_count": null,
   "metadata": {
    "slideshow": {
     "slide_type": "slide"
    }
   },
   "outputs": [],
   "source": [
    "np_array = np.array([1,2,3,4,5])\n",
    "\n",
    "print('Numpy Array')\n",
    "print(np_array)\n",
    "print('\\n') #i think this tells it to place a line break because jupyter's dumb ass will smash everything together\n",
    "\n",
    "#It will assign the index for you if you don't give it one\n",
    "#Indexing always starts at 0 in python\n",
    "pd_series = pd.Series(['babie',2,3,4,5]) #i added 'babie' as the first item to make sure i can put whatever data type\n",
    "#i want in a panda series. \n",
    "\n",
    "print('Pandas Series')\n",
    "print(pd_series)\n",
    "print(pd_series[0]) #and we can call items in the panda series by index"
   ]
  },
  {
   "cell_type": "markdown",
   "metadata": {
    "slideshow": {
     "slide_type": "slide"
    }
   },
   "source": [
    "### Series in Pandas"
   ]
  },
  {
   "cell_type": "code",
   "execution_count": null,
   "metadata": {
    "slideshow": {
     "slide_type": "subslide"
    }
   },
   "outputs": [],
   "source": [
    "#You can define the index for the series \n",
    "s1 = pd.Series([1,2,3,4,5],index = ['a','b','c','d','e']) #get the fuck out. what???\n",
    "\n",
    "print(s1, '\\n')\n",
    "\n",
    "#building a series from a dictionary \n",
    "data = {'cats' : 15., 'dogs' : 35., 'turtles' : 100.} #first we build the dictionary.\n",
    "s2 = pd.Series(data) #this kicks ass\n",
    "\n",
    "print(s2, '\\n')\n",
    "\n",
    "#You can assign the index (pandas handles missing data very well)\n",
    "s3 = pd.Series(data,index=['turtles','cats','birds','dogs']) #wait but now we can index it by the dictionary we already\n",
    "#defined?! that's honestly kind of astonishing. AND we didnt give it any info for 'birds' and it doesnt care\n",
    "\n",
    "print(s3, '\\n')\n",
    "\n",
    "\n",
    "#remember that within dictionaries, we can create sublists or subdictionaries, meaning we can get really specific\n",
    "data2 = {'cats' : ['amy', 'dolly', 'jessie'], 'fish' : {'sharks' : 'hambone', 'goldfish' : 'arnold'}}\n",
    "s4 = pd.Series(data2)\n",
    "s4['cats'] #to call data from a sublist, name the Series with the sublist name in brackets\n",
    "s4['fish']['sharks'] #to call data from a subdictionary, name the Series with the subdictionary name in brackets, \n",
    "#followed by the key name in brackets\n",
    "\n",
    "#simply calling these lines will only display the last line written. printing is necessary to see everything. a bit\n",
    "#annoying\n",
    "print(s4)\n",
    "print(s4['cats'])\n",
    "print(s4['fish']['sharks'])"
   ]
  },
  {
   "cell_type": "markdown",
   "metadata": {
    "slideshow": {
     "slide_type": "slide"
    }
   },
   "source": [
    "### Dataframes in Pandas"
   ]
  },
  {
   "cell_type": "code",
   "execution_count": 3,
   "metadata": {
    "slideshow": {
     "slide_type": "subslide"
    }
   },
   "outputs": [
    {
     "name": "stdout",
     "output_type": "stream",
     "text": [
      "            cats  dogs  birds  turtles\n",
      "2018-06-20    79    84     42       95\n",
      "2018-06-21    44    49     81       69\n",
      "2018-06-22    71     4     59       66\n",
      "2018-06-23    28    83     23       85\n",
      "2018-06-24    90    42     30       63\n",
      "2018-06-25    46    85     82       82\n",
      "\n",
      "\n",
      "   cats  dogs  birds  turtles\n",
      "0    79    84     42       95\n",
      "1    44    49     81       69\n",
      "2    71     4     59       66\n",
      "3    28    83     23       85\n",
      "4    90    42     30       63\n",
      "5    46    85     82       82\n"
     ]
    }
   ],
   "source": [
    "#example of how to build a dataframe\n",
    "#Example: I have an array of data that tells me the number of animals on a given date\n",
    "dates = pd.date_range('20180620', periods=6)\n",
    "rand_data = np.random.randint(low=0, high=100, size=(6,4))\n",
    "df = pd.DataFrame(rand_data, index=dates, columns=['cats','dogs','birds','turtles']) #values is the first kwarg,\n",
    "#index (the row labels) is the second kwarg, and columns (the column lables) is the final\n",
    "#kwarg. rand_data doesn't need to be defined as values = anything. also we can leave index or columns blank and it will\n",
    "#simply assign them a consecutive index number\n",
    "\n",
    "print(df)\n",
    "print('\\n')\n",
    "\n",
    "#If you don't care what the index is you don't have to give it one\n",
    "#If you don't assign an index it just gives them index values from 0 to # rows\n",
    "\n",
    "df = pd.DataFrame(rand_data, columns=['cats','dogs','birds','turtles'])\n",
    "\n",
    "print(df)"
   ]
  },
  {
   "cell_type": "markdown",
   "metadata": {
    "slideshow": {
     "slide_type": "slide"
    }
   },
   "source": [
    "## Importing data with Pandas \n",
    "* Pandas can easily read in files of data in one line \n",
    "* Unless you specify the dtypes you want for each column it chooses the best match \n",
    "* Each read function in Pandas is very flexible with a lot of arguments to to read in a lot of differnet formats\n",
    "* Generic delimited text [(documentation)](https://pandas.pydata.org/pandas-docs/stable/generated/pandas.read_table.html)\n",
    "    * `read_csv()` \n",
    "    * `read_table()` - defaults to tab separated"
   ]
  },
  {
   "cell_type": "markdown",
   "metadata": {
    "slideshow": {
     "slide_type": "subslide"
    }
   },
   "source": [
    "### Other formats\n",
    "Pandas has built-in support for [reading from or to other common formats/sources](http://pandas.pydata.org/pandas-docs/stable/io.html):\n",
    "* Excel -- `read_excel()`\n",
    "* JSON -- `read_json()`\n",
    "* SQL -- `read_sql()`\n",
    "* Stata -- `read_stata()`\n",
    "* SAS (XPORT or SAS7BDAT) -- `read_sas()`\n",
    "* etc..."
   ]
  },
  {
   "cell_type": "markdown",
   "metadata": {
    "slideshow": {
     "slide_type": "slide"
    }
   },
   "source": [
    "## We are going to work with the HETDEX Pilot Survey emission line catalog\n",
    "* this is a Vizier catalog that can be found [here](http://vizier.u-strasbg.fr/viz-bin/VizieR-3?-source=J/ApJS/192/5/hetdex)\n",
    "* The page has an option to save the table as a tab separated file which I did "
   ]
  },
  {
   "cell_type": "code",
   "execution_count": 9,
   "metadata": {
    "slideshow": {
     "slide_type": "slide"
    }
   },
   "outputs": [
    {
     "data": {
      "text/html": [
       "<div>\n",
       "<style scoped>\n",
       "    .dataframe tbody tr th:only-of-type {\n",
       "        vertical-align: middle;\n",
       "    }\n",
       "\n",
       "    .dataframe tbody tr th {\n",
       "        vertical-align: top;\n",
       "    }\n",
       "\n",
       "    .dataframe thead th {\n",
       "        text-align: right;\n",
       "    }\n",
       "</style>\n",
       "<table border=\"1\" class=\"dataframe\">\n",
       "  <thead>\n",
       "    <tr style=\"text-align: right;\">\n",
       "      <th></th>\n",
       "      <th>HPS</th>\n",
       "      <th>lambda</th>\n",
       "      <th>FWHM</th>\n",
       "      <th>S/N</th>\n",
       "      <th>Flux</th>\n",
       "      <th>Spat</th>\n",
       "      <th>mag</th>\n",
       "      <th>n_mag</th>\n",
       "      <th>Prob</th>\n",
       "      <th>EW</th>\n",
       "      <th>EWint</th>\n",
       "      <th>Trans</th>\n",
       "      <th>z</th>\n",
       "      <th>Lya</th>\n",
       "      <th>X-ray</th>\n",
       "      <th>RAJ2000</th>\n",
       "      <th>DEJ2000</th>\n",
       "    </tr>\n",
       "  </thead>\n",
       "  <tbody>\n",
       "    <tr>\n",
       "      <th>0</th>\n",
       "      <td>1</td>\n",
       "      <td>5219.16</td>\n",
       "      <td>229</td>\n",
       "      <td>8.1</td>\n",
       "      <td>17.4</td>\n",
       "      <td>4.7</td>\n",
       "      <td>23.05</td>\n",
       "      <td>R</td>\n",
       "      <td>0.93</td>\n",
       "      <td>51.9</td>\n",
       "      <td>62.9</td>\n",
       "      <td>[OII]</td>\n",
       "      <td>0.4004</td>\n",
       "      <td>0.07</td>\n",
       "      <td></td>\n",
       "      <td>02 21 11.16</td>\n",
       "      <td>-04 31 25.0</td>\n",
       "    </tr>\n",
       "    <tr>\n",
       "      <th>1</th>\n",
       "      <td>2</td>\n",
       "      <td>5448.72</td>\n",
       "      <td>307</td>\n",
       "      <td>5.6</td>\n",
       "      <td>12.2</td>\n",
       "      <td>4.3</td>\n",
       "      <td>23.17</td>\n",
       "      <td>R</td>\n",
       "      <td>0.96</td>\n",
       "      <td>42.0</td>\n",
       "      <td>59.8</td>\n",
       "      <td>[OII]</td>\n",
       "      <td>0.4620</td>\n",
       "      <td>0.04</td>\n",
       "      <td></td>\n",
       "      <td>02 21 12.21</td>\n",
       "      <td>-04 32 25.3</td>\n",
       "    </tr>\n",
       "    <tr>\n",
       "      <th>2</th>\n",
       "      <td>3</td>\n",
       "      <td>4973.93</td>\n",
       "      <td>422</td>\n",
       "      <td>7.5</td>\n",
       "      <td>19.9</td>\n",
       "      <td>4.4</td>\n",
       "      <td>24.31</td>\n",
       "      <td>R</td>\n",
       "      <td>0.98</td>\n",
       "      <td>58.8</td>\n",
       "      <td>109.0</td>\n",
       "      <td>Ly{alpha}</td>\n",
       "      <td>3.0915</td>\n",
       "      <td>1.00</td>\n",
       "      <td></td>\n",
       "      <td>02 21 14.28</td>\n",
       "      <td>-04 31 38.2</td>\n",
       "    </tr>\n",
       "    <tr>\n",
       "      <th>3</th>\n",
       "      <td>4</td>\n",
       "      <td>5261.37</td>\n",
       "      <td>1285</td>\n",
       "      <td>6.3</td>\n",
       "      <td>42.6</td>\n",
       "      <td>5.1</td>\n",
       "      <td>21.05</td>\n",
       "      <td>R</td>\n",
       "      <td>0.98</td>\n",
       "      <td>10.4</td>\n",
       "      <td>7.1</td>\n",
       "      <td>CIII]1909</td>\n",
       "      <td>1.7561</td>\n",
       "      <td>0.02</td>\n",
       "      <td>J0221151-043156</td>\n",
       "      <td>02 21 14.86</td>\n",
       "      <td>-04 31 56.6</td>\n",
       "    </tr>\n",
       "    <tr>\n",
       "      <th>4</th>\n",
       "      <td>5</td>\n",
       "      <td>4270.67</td>\n",
       "      <td>1841</td>\n",
       "      <td>33.1</td>\n",
       "      <td>342.1</td>\n",
       "      <td>4.8</td>\n",
       "      <td>21.05</td>\n",
       "      <td>R</td>\n",
       "      <td>1.00</td>\n",
       "      <td>54.9</td>\n",
       "      <td>55.1</td>\n",
       "      <td>CIV1549</td>\n",
       "      <td>1.7570</td>\n",
       "      <td>0.00</td>\n",
       "      <td>J0221151-043156</td>\n",
       "      <td>02 21 15.14</td>\n",
       "      <td>-04 31 54.0</td>\n",
       "    </tr>\n",
       "    <tr>\n",
       "      <th>5</th>\n",
       "      <td>6</td>\n",
       "      <td>4591.58</td>\n",
       "      <td>399</td>\n",
       "      <td>14.8</td>\n",
       "      <td>32.7</td>\n",
       "      <td>4.6</td>\n",
       "      <td>23.82</td>\n",
       "      <td>R</td>\n",
       "      <td>0.89</td>\n",
       "      <td>56.7</td>\n",
       "      <td>74.1</td>\n",
       "      <td>Ly{alpha}</td>\n",
       "      <td>2.7770</td>\n",
       "      <td>1.00</td>\n",
       "      <td></td>\n",
       "      <td>02 21 16.26</td>\n",
       "      <td>-04 29 32.8</td>\n",
       "    </tr>\n",
       "    <tr>\n",
       "      <th>6</th>\n",
       "      <td>7</td>\n",
       "      <td>5161.72</td>\n",
       "      <td>293</td>\n",
       "      <td>19.5</td>\n",
       "      <td>49.4</td>\n",
       "      <td>4.7</td>\n",
       "      <td>21.38</td>\n",
       "      <td>R</td>\n",
       "      <td>0.98</td>\n",
       "      <td>31.2</td>\n",
       "      <td>48.3</td>\n",
       "      <td>[OII]</td>\n",
       "      <td>0.3850</td>\n",
       "      <td>0.02</td>\n",
       "      <td></td>\n",
       "      <td>02 21 16.35</td>\n",
       "      <td>-04 31 14.6</td>\n",
       "    </tr>\n",
       "    <tr>\n",
       "      <th>7</th>\n",
       "      <td>8</td>\n",
       "      <td>5820.13</td>\n",
       "      <td>118</td>\n",
       "      <td>6.7</td>\n",
       "      <td>19.1</td>\n",
       "      <td>6.6</td>\n",
       "      <td>22.82</td>\n",
       "      <td>R</td>\n",
       "      <td>0.67</td>\n",
       "      <td>51.2</td>\n",
       "      <td>57.4</td>\n",
       "      <td>[OII]</td>\n",
       "      <td>0.5616</td>\n",
       "      <td>0.01</td>\n",
       "      <td></td>\n",
       "      <td>02 21 17.25</td>\n",
       "      <td>-04 27 55.7</td>\n",
       "    </tr>\n",
       "    <tr>\n",
       "      <th>8</th>\n",
       "      <td>9</td>\n",
       "      <td>5464.33</td>\n",
       "      <td>78</td>\n",
       "      <td>12.1</td>\n",
       "      <td>14.1</td>\n",
       "      <td>3.6</td>\n",
       "      <td>23.21</td>\n",
       "      <td>R</td>\n",
       "      <td>0.98</td>\n",
       "      <td>51.0</td>\n",
       "      <td>49.0</td>\n",
       "      <td>[OII]</td>\n",
       "      <td>0.4661</td>\n",
       "      <td>0.02</td>\n",
       "      <td></td>\n",
       "      <td>02 21 17.25</td>\n",
       "      <td>-04 30 10.4</td>\n",
       "    </tr>\n",
       "    <tr>\n",
       "      <th>9</th>\n",
       "      <td>10</td>\n",
       "      <td>4808.33</td>\n",
       "      <td>357</td>\n",
       "      <td>15.9</td>\n",
       "      <td>38.9</td>\n",
       "      <td>4.6</td>\n",
       "      <td>21.43</td>\n",
       "      <td>R</td>\n",
       "      <td>0.99</td>\n",
       "      <td>24.0</td>\n",
       "      <td>39.1</td>\n",
       "      <td>[OII]</td>\n",
       "      <td>0.2901</td>\n",
       "      <td>0.01</td>\n",
       "      <td></td>\n",
       "      <td>02 21 17.47</td>\n",
       "      <td>-04 27 30.6</td>\n",
       "    </tr>\n",
       "    <tr>\n",
       "      <th>10</th>\n",
       "      <td>11</td>\n",
       "      <td>4590.82</td>\n",
       "      <td>441</td>\n",
       "      <td>6.6</td>\n",
       "      <td>21.2</td>\n",
       "      <td>5.9</td>\n",
       "      <td>23.93</td>\n",
       "      <td>R</td>\n",
       "      <td>0.56</td>\n",
       "      <td>40.8</td>\n",
       "      <td>39.3</td>\n",
       "      <td>Ly{alpha}</td>\n",
       "      <td>2.7764</td>\n",
       "      <td>1.00</td>\n",
       "      <td></td>\n",
       "      <td>02 21 18.48</td>\n",
       "      <td>-04 27 32.2</td>\n",
       "    </tr>\n",
       "    <tr>\n",
       "      <th>11</th>\n",
       "      <td>12</td>\n",
       "      <td>4398.59</td>\n",
       "      <td>344</td>\n",
       "      <td>9.9</td>\n",
       "      <td>26.4</td>\n",
       "      <td>5.7</td>\n",
       "      <td>20.27</td>\n",
       "      <td>R</td>\n",
       "      <td>1.00</td>\n",
       "      <td>5.1</td>\n",
       "      <td>14.3</td>\n",
       "      <td>[OII]</td>\n",
       "      <td>0.1802</td>\n",
       "      <td>0.00</td>\n",
       "      <td></td>\n",
       "      <td>02 21 19.20</td>\n",
       "      <td>-04 30 28.9</td>\n",
       "    </tr>\n",
       "    <tr>\n",
       "      <th>12</th>\n",
       "      <td>13</td>\n",
       "      <td>5250.96</td>\n",
       "      <td>378</td>\n",
       "      <td>7.8</td>\n",
       "      <td>11.7</td>\n",
       "      <td>3.6</td>\n",
       "      <td>24.91</td>\n",
       "      <td>R</td>\n",
       "      <td>0.70</td>\n",
       "      <td>62.9</td>\n",
       "      <td>92.3</td>\n",
       "      <td>Ly{alpha}</td>\n",
       "      <td>3.3194</td>\n",
       "      <td>1.00</td>\n",
       "      <td></td>\n",
       "      <td>02 21 19.22</td>\n",
       "      <td>-04 30 39.9</td>\n",
       "    </tr>\n",
       "    <tr>\n",
       "      <th>13</th>\n",
       "      <td>14</td>\n",
       "      <td>4863.62</td>\n",
       "      <td>328</td>\n",
       "      <td>21.8</td>\n",
       "      <td>49.6</td>\n",
       "      <td>5.5</td>\n",
       "      <td>21.69</td>\n",
       "      <td>R</td>\n",
       "      <td>1.00</td>\n",
       "      <td>39.3</td>\n",
       "      <td>55.5</td>\n",
       "      <td>[OII]</td>\n",
       "      <td>0.3050</td>\n",
       "      <td>0.00</td>\n",
       "      <td></td>\n",
       "      <td>02 21 19.47</td>\n",
       "      <td>-04 28 21.9</td>\n",
       "    </tr>\n",
       "    <tr>\n",
       "      <th>14</th>\n",
       "      <td>15</td>\n",
       "      <td>4919.31</td>\n",
       "      <td>243</td>\n",
       "      <td>21.7</td>\n",
       "      <td>36.2</td>\n",
       "      <td>4.9</td>\n",
       "      <td>20.62</td>\n",
       "      <td>R</td>\n",
       "      <td>1.00</td>\n",
       "      <td>10.7</td>\n",
       "      <td>18.8</td>\n",
       "      <td>[OII]</td>\n",
       "      <td>0.3199</td>\n",
       "      <td>0.00</td>\n",
       "      <td></td>\n",
       "      <td>02 21 19.48</td>\n",
       "      <td>-04 29 34.0</td>\n",
       "    </tr>\n",
       "    <tr>\n",
       "      <th>15</th>\n",
       "      <td>16</td>\n",
       "      <td>4901.07</td>\n",
       "      <td>397</td>\n",
       "      <td>5.9</td>\n",
       "      <td>13.7</td>\n",
       "      <td>5.3</td>\n",
       "      <td>22.17</td>\n",
       "      <td>R</td>\n",
       "      <td>0.84</td>\n",
       "      <td>17.0</td>\n",
       "      <td>25.8</td>\n",
       "      <td>[OII]</td>\n",
       "      <td>0.3150</td>\n",
       "      <td>0.00</td>\n",
       "      <td></td>\n",
       "      <td>02 21 19.83</td>\n",
       "      <td>-04 28 08.8</td>\n",
       "    </tr>\n",
       "    <tr>\n",
       "      <th>16</th>\n",
       "      <td>17</td>\n",
       "      <td>4588.13</td>\n",
       "      <td>93</td>\n",
       "      <td>5.9</td>\n",
       "      <td>13.2</td>\n",
       "      <td>5.3</td>\n",
       "      <td>24.33</td>\n",
       "      <td>R</td>\n",
       "      <td>0.96</td>\n",
       "      <td>36.4</td>\n",
       "      <td>34.2</td>\n",
       "      <td>Ly{alpha}</td>\n",
       "      <td>2.7742</td>\n",
       "      <td>1.00</td>\n",
       "      <td></td>\n",
       "      <td>02 21 19.85</td>\n",
       "      <td>-04 27 43.4</td>\n",
       "    </tr>\n",
       "    <tr>\n",
       "      <th>17</th>\n",
       "      <td>18</td>\n",
       "      <td>5655.44</td>\n",
       "      <td>972</td>\n",
       "      <td>8.2</td>\n",
       "      <td>45.4</td>\n",
       "      <td>5.6</td>\n",
       "      <td>20.49</td>\n",
       "      <td>R</td>\n",
       "      <td>0.74</td>\n",
       "      <td>14.4</td>\n",
       "      <td>20.4</td>\n",
       "      <td>[NeIII]3869</td>\n",
       "      <td>0.4617</td>\n",
       "      <td>0.00</td>\n",
       "      <td></td>\n",
       "      <td>02 21 20.77</td>\n",
       "      <td>-04 30 56.6</td>\n",
       "    </tr>\n",
       "    <tr>\n",
       "      <th>18</th>\n",
       "      <td>19</td>\n",
       "      <td>5452.07</td>\n",
       "      <td>438</td>\n",
       "      <td>26.8</td>\n",
       "      <td>83.6</td>\n",
       "      <td>5.6</td>\n",
       "      <td>20.48</td>\n",
       "      <td>R</td>\n",
       "      <td>0.75</td>\n",
       "      <td>24.3</td>\n",
       "      <td>41.1</td>\n",
       "      <td>[OII]</td>\n",
       "      <td>0.4629</td>\n",
       "      <td>0.00</td>\n",
       "      <td></td>\n",
       "      <td>02 21 20.78</td>\n",
       "      <td>-04 30 56.4</td>\n",
       "    </tr>\n",
       "    <tr>\n",
       "      <th>19</th>\n",
       "      <td>20</td>\n",
       "      <td>5788.83</td>\n",
       "      <td>303</td>\n",
       "      <td>8.9</td>\n",
       "      <td>21.8</td>\n",
       "      <td>5.1</td>\n",
       "      <td>21.80</td>\n",
       "      <td>R</td>\n",
       "      <td>0.99</td>\n",
       "      <td>22.7</td>\n",
       "      <td>27.0</td>\n",
       "      <td>[OII]</td>\n",
       "      <td>0.5532</td>\n",
       "      <td>0.01</td>\n",
       "      <td></td>\n",
       "      <td>02 21 21.27</td>\n",
       "      <td>-04 27 44.6</td>\n",
       "    </tr>\n",
       "    <tr>\n",
       "      <th>20</th>\n",
       "      <td>21</td>\n",
       "      <td>5448.33</td>\n",
       "      <td>277</td>\n",
       "      <td>8.6</td>\n",
       "      <td>8.8</td>\n",
       "      <td>3.3</td>\n",
       "      <td>23.13</td>\n",
       "      <td>R</td>\n",
       "      <td>0.60</td>\n",
       "      <td>29.5</td>\n",
       "      <td>40.2</td>\n",
       "      <td>[OII]</td>\n",
       "      <td>0.4619</td>\n",
       "      <td>0.03</td>\n",
       "      <td></td>\n",
       "      <td>02 21 22.13</td>\n",
       "      <td>-04 30 35.0</td>\n",
       "    </tr>\n",
       "    <tr>\n",
       "      <th>21</th>\n",
       "      <td>22</td>\n",
       "      <td>4586.30</td>\n",
       "      <td>603</td>\n",
       "      <td>7.4</td>\n",
       "      <td>17.7</td>\n",
       "      <td>5.2</td>\n",
       "      <td>25.14</td>\n",
       "      <td>R</td>\n",
       "      <td>0.81</td>\n",
       "      <td>103.4</td>\n",
       "      <td>682.6</td>\n",
       "      <td>Ly{alpha}</td>\n",
       "      <td>2.7727</td>\n",
       "      <td>1.00</td>\n",
       "      <td></td>\n",
       "      <td>02 21 22.84</td>\n",
       "      <td>-04 29 25.2</td>\n",
       "    </tr>\n",
       "    <tr>\n",
       "      <th>22</th>\n",
       "      <td>23</td>\n",
       "      <td>4540.36</td>\n",
       "      <td>323</td>\n",
       "      <td>9.4</td>\n",
       "      <td>18.5</td>\n",
       "      <td>4.6</td>\n",
       "      <td>22.44</td>\n",
       "      <td>R</td>\n",
       "      <td>1.00</td>\n",
       "      <td>27.1</td>\n",
       "      <td>44.1</td>\n",
       "      <td>[OII]</td>\n",
       "      <td>0.2182</td>\n",
       "      <td>0.00</td>\n",
       "      <td></td>\n",
       "      <td>02 21 22.88</td>\n",
       "      <td>-04 29 44.3</td>\n",
       "    </tr>\n",
       "    <tr>\n",
       "      <th>23</th>\n",
       "      <td>24</td>\n",
       "      <td>4592.57</td>\n",
       "      <td>204</td>\n",
       "      <td>8.8</td>\n",
       "      <td>14.3</td>\n",
       "      <td>4.0</td>\n",
       "      <td>22.03</td>\n",
       "      <td>R</td>\n",
       "      <td>1.00</td>\n",
       "      <td>14.6</td>\n",
       "      <td>21.2</td>\n",
       "      <td>[OII]</td>\n",
       "      <td>0.2322</td>\n",
       "      <td>0.00</td>\n",
       "      <td></td>\n",
       "      <td>02 21 23.28</td>\n",
       "      <td>-04 29 22.3</td>\n",
       "    </tr>\n",
       "    <tr>\n",
       "      <th>24</th>\n",
       "      <td>25</td>\n",
       "      <td>4319.48</td>\n",
       "      <td>810</td>\n",
       "      <td>14.1</td>\n",
       "      <td>64.3</td>\n",
       "      <td>6.2</td>\n",
       "      <td>24.27</td>\n",
       "      <td>R</td>\n",
       "      <td>0.98</td>\n",
       "      <td>158.9</td>\n",
       "      <td>256.4</td>\n",
       "      <td>Ly{alpha}</td>\n",
       "      <td>2.5532</td>\n",
       "      <td>1.00</td>\n",
       "      <td></td>\n",
       "      <td>02 21 23.47</td>\n",
       "      <td>-04 29 09.4</td>\n",
       "    </tr>\n",
       "    <tr>\n",
       "      <th>25</th>\n",
       "      <td>26</td>\n",
       "      <td>5336.44</td>\n",
       "      <td>306</td>\n",
       "      <td>34.7</td>\n",
       "      <td>79.4</td>\n",
       "      <td>4.4</td>\n",
       "      <td>20.75</td>\n",
       "      <td>R</td>\n",
       "      <td>0.68</td>\n",
       "      <td>28.8</td>\n",
       "      <td>42.7</td>\n",
       "      <td>[OII]</td>\n",
       "      <td>0.4318</td>\n",
       "      <td>0.32</td>\n",
       "      <td></td>\n",
       "      <td>02 21 23.78</td>\n",
       "      <td>-04 30 00.2</td>\n",
       "    </tr>\n",
       "    <tr>\n",
       "      <th>26</th>\n",
       "      <td>27</td>\n",
       "      <td>5805.02</td>\n",
       "      <td>74</td>\n",
       "      <td>18.1</td>\n",
       "      <td>34.7</td>\n",
       "      <td>4.5</td>\n",
       "      <td>21.25</td>\n",
       "      <td>R</td>\n",
       "      <td>0.99</td>\n",
       "      <td>29.4</td>\n",
       "      <td>31.4</td>\n",
       "      <td>[OIII]5007</td>\n",
       "      <td>0.1594</td>\n",
       "      <td>0.01</td>\n",
       "      <td></td>\n",
       "      <td>02 21 24.45</td>\n",
       "      <td>-04 30 01.8</td>\n",
       "    </tr>\n",
       "    <tr>\n",
       "      <th>27</th>\n",
       "      <td>28</td>\n",
       "      <td>5636.41</td>\n",
       "      <td>76</td>\n",
       "      <td>7.9</td>\n",
       "      <td>15.7</td>\n",
       "      <td>4.7</td>\n",
       "      <td>21.23</td>\n",
       "      <td>R</td>\n",
       "      <td>0.99</td>\n",
       "      <td>12.3</td>\n",
       "      <td>13.6</td>\n",
       "      <td>H{beta}</td>\n",
       "      <td>0.1595</td>\n",
       "      <td>0.01</td>\n",
       "      <td></td>\n",
       "      <td>02 21 24.47</td>\n",
       "      <td>-04 30 01.3</td>\n",
       "    </tr>\n",
       "    <tr>\n",
       "      <th>28</th>\n",
       "      <td>29</td>\n",
       "      <td>4322.09</td>\n",
       "      <td>204</td>\n",
       "      <td>23.1</td>\n",
       "      <td>48.0</td>\n",
       "      <td>3.9</td>\n",
       "      <td>21.22</td>\n",
       "      <td>R</td>\n",
       "      <td>0.99</td>\n",
       "      <td>21.9</td>\n",
       "      <td>42.1</td>\n",
       "      <td>[OII]</td>\n",
       "      <td>0.1597</td>\n",
       "      <td>0.01</td>\n",
       "      <td></td>\n",
       "      <td>02 21 24.48</td>\n",
       "      <td>-04 30 00.8</td>\n",
       "    </tr>\n",
       "    <tr>\n",
       "      <th>29</th>\n",
       "      <td>30</td>\n",
       "      <td>5749.30</td>\n",
       "      <td>92</td>\n",
       "      <td>5.8</td>\n",
       "      <td>10.5</td>\n",
       "      <td>4.6</td>\n",
       "      <td>21.23</td>\n",
       "      <td>R</td>\n",
       "      <td>0.98</td>\n",
       "      <td>8.6</td>\n",
       "      <td>9.3</td>\n",
       "      <td>[OIII]4959</td>\n",
       "      <td>0.1594</td>\n",
       "      <td>0.02</td>\n",
       "      <td></td>\n",
       "      <td>02 21 24.49</td>\n",
       "      <td>-04 30 02.0</td>\n",
       "    </tr>\n",
       "    <tr>\n",
       "      <th>...</th>\n",
       "      <td>...</td>\n",
       "      <td>...</td>\n",
       "      <td>...</td>\n",
       "      <td>...</td>\n",
       "      <td>...</td>\n",
       "      <td>...</td>\n",
       "      <td>...</td>\n",
       "      <td>...</td>\n",
       "      <td>...</td>\n",
       "      <td>...</td>\n",
       "      <td>...</td>\n",
       "      <td>...</td>\n",
       "      <td>...</td>\n",
       "      <td>...</td>\n",
       "      <td>...</td>\n",
       "      <td>...</td>\n",
       "      <td>...</td>\n",
       "    </tr>\n",
       "    <tr>\n",
       "      <th>449</th>\n",
       "      <td>450</td>\n",
       "      <td>5645.65</td>\n",
       "      <td>275</td>\n",
       "      <td>8.5</td>\n",
       "      <td>8.9</td>\n",
       "      <td>2.8</td>\n",
       "      <td>22.78</td>\n",
       "      <td>R</td>\n",
       "      <td>0.36</td>\n",
       "      <td>22.2</td>\n",
       "      <td>29.6</td>\n",
       "      <td>[OII]</td>\n",
       "      <td>0.5148</td>\n",
       "      <td>0.00</td>\n",
       "      <td>J1236597+621404</td>\n",
       "      <td>12 36 59.85</td>\n",
       "      <td>+62 14 05.9</td>\n",
       "    </tr>\n",
       "    <tr>\n",
       "      <th>450</th>\n",
       "      <td>451</td>\n",
       "      <td>5303.80</td>\n",
       "      <td>409</td>\n",
       "      <td>6.6</td>\n",
       "      <td>11.3</td>\n",
       "      <td>5.1</td>\n",
       "      <td>20.76</td>\n",
       "      <td>R</td>\n",
       "      <td>0.80</td>\n",
       "      <td>4.1</td>\n",
       "      <td>10.2</td>\n",
       "      <td>[OII]</td>\n",
       "      <td>0.4231</td>\n",
       "      <td>0.01</td>\n",
       "      <td>J1236597+621404</td>\n",
       "      <td>12 37 00.31</td>\n",
       "      <td>+62 14 06.5</td>\n",
       "    </tr>\n",
       "    <tr>\n",
       "      <th>451</th>\n",
       "      <td>452</td>\n",
       "      <td>5256.55</td>\n",
       "      <td>131</td>\n",
       "      <td>7.0</td>\n",
       "      <td>11.6</td>\n",
       "      <td>4.7</td>\n",
       "      <td>21.00</td>\n",
       "      <td>R</td>\n",
       "      <td>0.98</td>\n",
       "      <td>5.2</td>\n",
       "      <td>10.9</td>\n",
       "      <td>[OII]</td>\n",
       "      <td>0.4104</td>\n",
       "      <td>0.02</td>\n",
       "      <td></td>\n",
       "      <td>12 37 01.73</td>\n",
       "      <td>+62 13 22.8</td>\n",
       "    </tr>\n",
       "    <tr>\n",
       "      <th>452</th>\n",
       "      <td>453</td>\n",
       "      <td>4386.82</td>\n",
       "      <td>1074</td>\n",
       "      <td>6.8</td>\n",
       "      <td>11.3</td>\n",
       "      <td>2.0</td>\n",
       "      <td>19.06</td>\n",
       "      <td>R</td>\n",
       "      <td>1.00</td>\n",
       "      <td>0.7</td>\n",
       "      <td>1.7</td>\n",
       "      <td>[NeIII]3869</td>\n",
       "      <td>0.1338</td>\n",
       "      <td>0.00</td>\n",
       "      <td>J1237020+621122</td>\n",
       "      <td>12 37 01.94</td>\n",
       "      <td>+62 11 23.6</td>\n",
       "    </tr>\n",
       "    <tr>\n",
       "      <th>453</th>\n",
       "      <td>454</td>\n",
       "      <td>5633.22</td>\n",
       "      <td>176</td>\n",
       "      <td>9.6</td>\n",
       "      <td>16.4</td>\n",
       "      <td>5.0</td>\n",
       "      <td>22.56</td>\n",
       "      <td>R</td>\n",
       "      <td>0.99</td>\n",
       "      <td>33.3</td>\n",
       "      <td>50.9</td>\n",
       "      <td>[OII]</td>\n",
       "      <td>0.5115</td>\n",
       "      <td>0.01</td>\n",
       "      <td></td>\n",
       "      <td>12 37 01.96</td>\n",
       "      <td>+62 13 49.4</td>\n",
       "    </tr>\n",
       "    <tr>\n",
       "      <th>454</th>\n",
       "      <td>455</td>\n",
       "      <td>5631.72</td>\n",
       "      <td>76</td>\n",
       "      <td>9.3</td>\n",
       "      <td>15.1</td>\n",
       "      <td>5.6</td>\n",
       "      <td>19.06</td>\n",
       "      <td>R</td>\n",
       "      <td>1.00</td>\n",
       "      <td>1.6</td>\n",
       "      <td>2.1</td>\n",
       "      <td>[OIII]4959</td>\n",
       "      <td>0.1357</td>\n",
       "      <td>0.00</td>\n",
       "      <td>J1237020+621122</td>\n",
       "      <td>12 37 02.05</td>\n",
       "      <td>+62 11 24.0</td>\n",
       "    </tr>\n",
       "    <tr>\n",
       "      <th>455</th>\n",
       "      <td>456</td>\n",
       "      <td>5686.34</td>\n",
       "      <td>144</td>\n",
       "      <td>19.9</td>\n",
       "      <td>30.5</td>\n",
       "      <td>5.0</td>\n",
       "      <td>19.06</td>\n",
       "      <td>R</td>\n",
       "      <td>1.00</td>\n",
       "      <td>3.4</td>\n",
       "      <td>4.2</td>\n",
       "      <td>[OIII]5007</td>\n",
       "      <td>0.1357</td>\n",
       "      <td>0.00</td>\n",
       "      <td>J1237020+621122</td>\n",
       "      <td>12 37 02.08</td>\n",
       "      <td>+62 11 24.1</td>\n",
       "    </tr>\n",
       "    <tr>\n",
       "      <th>456</th>\n",
       "      <td>457</td>\n",
       "      <td>5521.00</td>\n",
       "      <td>78</td>\n",
       "      <td>16.6</td>\n",
       "      <td>26.7</td>\n",
       "      <td>5.4</td>\n",
       "      <td>19.06</td>\n",
       "      <td>R</td>\n",
       "      <td>1.00</td>\n",
       "      <td>2.8</td>\n",
       "      <td>3.7</td>\n",
       "      <td>H{beta}</td>\n",
       "      <td>0.1358</td>\n",
       "      <td>0.00</td>\n",
       "      <td>J1237020+621122</td>\n",
       "      <td>12 37 02.09</td>\n",
       "      <td>+62 11 24.5</td>\n",
       "    </tr>\n",
       "    <tr>\n",
       "      <th>457</th>\n",
       "      <td>458</td>\n",
       "      <td>4233.33</td>\n",
       "      <td>235</td>\n",
       "      <td>44.5</td>\n",
       "      <td>114.3</td>\n",
       "      <td>5.4</td>\n",
       "      <td>19.06</td>\n",
       "      <td>R</td>\n",
       "      <td>1.00</td>\n",
       "      <td>7.0</td>\n",
       "      <td>17.9</td>\n",
       "      <td>[OII]</td>\n",
       "      <td>0.1359</td>\n",
       "      <td>0.00</td>\n",
       "      <td>J1237020+621122</td>\n",
       "      <td>12 37 02.14</td>\n",
       "      <td>+62 11 23.7</td>\n",
       "    </tr>\n",
       "    <tr>\n",
       "      <th>458</th>\n",
       "      <td>459</td>\n",
       "      <td>4925.27</td>\n",
       "      <td>280</td>\n",
       "      <td>13.9</td>\n",
       "      <td>30.4</td>\n",
       "      <td>3.7</td>\n",
       "      <td>22.09</td>\n",
       "      <td>R</td>\n",
       "      <td>0.92</td>\n",
       "      <td>35.2</td>\n",
       "      <td>52.4</td>\n",
       "      <td>[OII]</td>\n",
       "      <td>0.3215</td>\n",
       "      <td>0.07</td>\n",
       "      <td></td>\n",
       "      <td>12 37 03.92</td>\n",
       "      <td>+62 10 11.1</td>\n",
       "    </tr>\n",
       "    <tr>\n",
       "      <th>459</th>\n",
       "      <td>460</td>\n",
       "      <td>5496.46</td>\n",
       "      <td>347</td>\n",
       "      <td>12.8</td>\n",
       "      <td>19.8</td>\n",
       "      <td>4.5</td>\n",
       "      <td>21.76</td>\n",
       "      <td>R</td>\n",
       "      <td>0.99</td>\n",
       "      <td>18.9</td>\n",
       "      <td>35.5</td>\n",
       "      <td>[OII]</td>\n",
       "      <td>0.4748</td>\n",
       "      <td>0.01</td>\n",
       "      <td></td>\n",
       "      <td>12 37 04.02</td>\n",
       "      <td>+62 14 42.5</td>\n",
       "    </tr>\n",
       "    <tr>\n",
       "      <th>460</th>\n",
       "      <td>461</td>\n",
       "      <td>4977.89</td>\n",
       "      <td>479</td>\n",
       "      <td>9.2</td>\n",
       "      <td>13.5</td>\n",
       "      <td>4.2</td>\n",
       "      <td>24.39</td>\n",
       "      <td>R</td>\n",
       "      <td>0.82</td>\n",
       "      <td>54.2</td>\n",
       "      <td>56.1</td>\n",
       "      <td>CIV1549</td>\n",
       "      <td>2.2136</td>\n",
       "      <td>0.08</td>\n",
       "      <td></td>\n",
       "      <td>12 37 04.17</td>\n",
       "      <td>+62 14 46.7</td>\n",
       "    </tr>\n",
       "    <tr>\n",
       "      <th>461</th>\n",
       "      <td>462</td>\n",
       "      <td>3905.67</td>\n",
       "      <td>546</td>\n",
       "      <td>12.4</td>\n",
       "      <td>78.9</td>\n",
       "      <td>6.4</td>\n",
       "      <td>24.39</td>\n",
       "      <td>R</td>\n",
       "      <td>0.96</td>\n",
       "      <td>195.4</td>\n",
       "      <td>335.2</td>\n",
       "      <td>Ly{alpha}</td>\n",
       "      <td>2.2128</td>\n",
       "      <td>1.00</td>\n",
       "      <td></td>\n",
       "      <td>12 37 04.49</td>\n",
       "      <td>+62 14 46.6</td>\n",
       "    </tr>\n",
       "    <tr>\n",
       "      <th>462</th>\n",
       "      <td>463</td>\n",
       "      <td>5256.63</td>\n",
       "      <td>334</td>\n",
       "      <td>14.7</td>\n",
       "      <td>29.2</td>\n",
       "      <td>4.1</td>\n",
       "      <td>21.96</td>\n",
       "      <td>R</td>\n",
       "      <td>0.72</td>\n",
       "      <td>32.0</td>\n",
       "      <td>62.4</td>\n",
       "      <td>[OII]</td>\n",
       "      <td>0.4104</td>\n",
       "      <td>0.28</td>\n",
       "      <td></td>\n",
       "      <td>12 37 04.55</td>\n",
       "      <td>+62 10 29.9</td>\n",
       "    </tr>\n",
       "    <tr>\n",
       "      <th>463</th>\n",
       "      <td>464</td>\n",
       "      <td>5814.80</td>\n",
       "      <td>253</td>\n",
       "      <td>5.7</td>\n",
       "      <td>9.4</td>\n",
       "      <td>4.9</td>\n",
       "      <td>21.39</td>\n",
       "      <td>R</td>\n",
       "      <td>1.00</td>\n",
       "      <td>6.7</td>\n",
       "      <td>10.6</td>\n",
       "      <td>[OII]</td>\n",
       "      <td>0.5602</td>\n",
       "      <td>0.00</td>\n",
       "      <td>J1237046+621429</td>\n",
       "      <td>12 37 04.59</td>\n",
       "      <td>+62 14 29.5</td>\n",
       "    </tr>\n",
       "    <tr>\n",
       "      <th>464</th>\n",
       "      <td>465</td>\n",
       "      <td>5169.47</td>\n",
       "      <td>259</td>\n",
       "      <td>8.1</td>\n",
       "      <td>15.6</td>\n",
       "      <td>6.0</td>\n",
       "      <td>22.59</td>\n",
       "      <td>R</td>\n",
       "      <td>0.97</td>\n",
       "      <td>30.0</td>\n",
       "      <td>55.3</td>\n",
       "      <td>[OII]</td>\n",
       "      <td>0.3870</td>\n",
       "      <td>0.03</td>\n",
       "      <td></td>\n",
       "      <td>12 37 05.21</td>\n",
       "      <td>+62 12 11.7</td>\n",
       "    </tr>\n",
       "    <tr>\n",
       "      <th>465</th>\n",
       "      <td>466</td>\n",
       "      <td>5152.53</td>\n",
       "      <td>371</td>\n",
       "      <td>14.6</td>\n",
       "      <td>20.5</td>\n",
       "      <td>4.2</td>\n",
       "      <td>23.55</td>\n",
       "      <td>R</td>\n",
       "      <td>0.94</td>\n",
       "      <td>31.0</td>\n",
       "      <td>58.9</td>\n",
       "      <td>Ly{alpha}</td>\n",
       "      <td>3.2384</td>\n",
       "      <td>1.00</td>\n",
       "      <td></td>\n",
       "      <td>12 37 05.85</td>\n",
       "      <td>+62 15 03.1</td>\n",
       "    </tr>\n",
       "    <tr>\n",
       "      <th>466</th>\n",
       "      <td>467</td>\n",
       "      <td>4622.35</td>\n",
       "      <td>93</td>\n",
       "      <td>6.0</td>\n",
       "      <td>9.4</td>\n",
       "      <td>4.8</td>\n",
       "      <td></td>\n",
       "      <td>R</td>\n",
       "      <td>0.02</td>\n",
       "      <td>270.7</td>\n",
       "      <td>296.8</td>\n",
       "      <td>Ly{alpha}</td>\n",
       "      <td>2.8023</td>\n",
       "      <td>1.00</td>\n",
       "      <td></td>\n",
       "      <td>12 37 07.53</td>\n",
       "      <td>+62 11 38.3</td>\n",
       "    </tr>\n",
       "    <tr>\n",
       "      <th>467</th>\n",
       "      <td>468</td>\n",
       "      <td>5804.44</td>\n",
       "      <td>296</td>\n",
       "      <td>12.9</td>\n",
       "      <td>16.5</td>\n",
       "      <td>4.0</td>\n",
       "      <td>22.70</td>\n",
       "      <td>R</td>\n",
       "      <td>0.98</td>\n",
       "      <td>39.6</td>\n",
       "      <td>52.3</td>\n",
       "      <td>[OII]</td>\n",
       "      <td>0.5574</td>\n",
       "      <td>0.02</td>\n",
       "      <td></td>\n",
       "      <td>12 37 07.74</td>\n",
       "      <td>+62 11 39.4</td>\n",
       "    </tr>\n",
       "    <tr>\n",
       "      <th>468</th>\n",
       "      <td>469</td>\n",
       "      <td>5302.28</td>\n",
       "      <td>389</td>\n",
       "      <td>34.5</td>\n",
       "      <td>70.3</td>\n",
       "      <td>5.2</td>\n",
       "      <td>20.32</td>\n",
       "      <td>R</td>\n",
       "      <td>0.95</td>\n",
       "      <td>17.1</td>\n",
       "      <td>30.1</td>\n",
       "      <td>[OII]</td>\n",
       "      <td>0.4227</td>\n",
       "      <td>0.05</td>\n",
       "      <td>J1237083+621056</td>\n",
       "      <td>12 37 08.19</td>\n",
       "      <td>+62 10 57.1</td>\n",
       "    </tr>\n",
       "    <tr>\n",
       "      <th>469</th>\n",
       "      <td>470</td>\n",
       "      <td>5823.58</td>\n",
       "      <td>274</td>\n",
       "      <td>12.6</td>\n",
       "      <td>20.1</td>\n",
       "      <td>5.1</td>\n",
       "      <td>22.19</td>\n",
       "      <td>R</td>\n",
       "      <td>0.98</td>\n",
       "      <td>30.2</td>\n",
       "      <td>42.3</td>\n",
       "      <td>[OII]</td>\n",
       "      <td>0.5625</td>\n",
       "      <td>0.01</td>\n",
       "      <td></td>\n",
       "      <td>12 37 08.24</td>\n",
       "      <td>+62 14 55.0</td>\n",
       "    </tr>\n",
       "    <tr>\n",
       "      <th>470</th>\n",
       "      <td>471</td>\n",
       "      <td>5258.97</td>\n",
       "      <td>287</td>\n",
       "      <td>14.6</td>\n",
       "      <td>24.7</td>\n",
       "      <td>5.0</td>\n",
       "      <td>21.01</td>\n",
       "      <td>R</td>\n",
       "      <td>0.94</td>\n",
       "      <td>11.3</td>\n",
       "      <td>21.1</td>\n",
       "      <td>[OII]</td>\n",
       "      <td>0.4110</td>\n",
       "      <td>0.00</td>\n",
       "      <td></td>\n",
       "      <td>12 37 08.76</td>\n",
       "      <td>+62 10 52.1</td>\n",
       "    </tr>\n",
       "    <tr>\n",
       "      <th>471</th>\n",
       "      <td>472</td>\n",
       "      <td>5527.22</td>\n",
       "      <td>217</td>\n",
       "      <td>5.6</td>\n",
       "      <td>3.9</td>\n",
       "      <td>3.1</td>\n",
       "      <td>23.29</td>\n",
       "      <td>R</td>\n",
       "      <td>0.47</td>\n",
       "      <td>15.4</td>\n",
       "      <td>23.9</td>\n",
       "      <td>[OII]</td>\n",
       "      <td>0.4830</td>\n",
       "      <td>0.03</td>\n",
       "      <td></td>\n",
       "      <td>12 37 10.81</td>\n",
       "      <td>+62 10 50.2</td>\n",
       "    </tr>\n",
       "    <tr>\n",
       "      <th>472</th>\n",
       "      <td>473</td>\n",
       "      <td>5497.45</td>\n",
       "      <td>478</td>\n",
       "      <td>5.9</td>\n",
       "      <td>7.5</td>\n",
       "      <td>3.5</td>\n",
       "      <td>23.16</td>\n",
       "      <td>R</td>\n",
       "      <td>0.96</td>\n",
       "      <td>25.8</td>\n",
       "      <td>46.7</td>\n",
       "      <td>[OII]</td>\n",
       "      <td>0.4750</td>\n",
       "      <td>0.02</td>\n",
       "      <td></td>\n",
       "      <td>12 37 10.93</td>\n",
       "      <td>+62 11 30.5</td>\n",
       "    </tr>\n",
       "    <tr>\n",
       "      <th>473</th>\n",
       "      <td>474</td>\n",
       "      <td>3980.21</td>\n",
       "      <td>564</td>\n",
       "      <td>5.6</td>\n",
       "      <td>13.6</td>\n",
       "      <td>4.2</td>\n",
       "      <td>25.14</td>\n",
       "      <td>R</td>\n",
       "      <td>0.23</td>\n",
       "      <td>68.6</td>\n",
       "      <td>102.0</td>\n",
       "      <td>Ly{alpha}</td>\n",
       "      <td>2.2741</td>\n",
       "      <td>0.28</td>\n",
       "      <td></td>\n",
       "      <td>12 37 11.00</td>\n",
       "      <td>+62 11 40.9</td>\n",
       "    </tr>\n",
       "    <tr>\n",
       "      <th>474</th>\n",
       "      <td>475</td>\n",
       "      <td>5256.73</td>\n",
       "      <td>427</td>\n",
       "      <td>5.6</td>\n",
       "      <td>11.2</td>\n",
       "      <td>4.0</td>\n",
       "      <td>21.94</td>\n",
       "      <td>R</td>\n",
       "      <td>0.83</td>\n",
       "      <td>12.1</td>\n",
       "      <td>23.0</td>\n",
       "      <td>[OII]</td>\n",
       "      <td>0.4104</td>\n",
       "      <td>0.08</td>\n",
       "      <td></td>\n",
       "      <td>12 37 11.50</td>\n",
       "      <td>+62 11 29.4</td>\n",
       "    </tr>\n",
       "    <tr>\n",
       "      <th>475</th>\n",
       "      <td>476</td>\n",
       "      <td>5264.56</td>\n",
       "      <td>440</td>\n",
       "      <td>12.7</td>\n",
       "      <td>19.1</td>\n",
       "      <td>4.0</td>\n",
       "      <td>22.02</td>\n",
       "      <td>R</td>\n",
       "      <td>0.97</td>\n",
       "      <td>22.1</td>\n",
       "      <td>38.0</td>\n",
       "      <td>[OII]</td>\n",
       "      <td>0.4125</td>\n",
       "      <td>0.03</td>\n",
       "      <td></td>\n",
       "      <td>12 37 11.60</td>\n",
       "      <td>+62 10 21.1</td>\n",
       "    </tr>\n",
       "    <tr>\n",
       "      <th>476</th>\n",
       "      <td>477</td>\n",
       "      <td>4840.35</td>\n",
       "      <td>303</td>\n",
       "      <td>38.1</td>\n",
       "      <td>70.8</td>\n",
       "      <td>5.1</td>\n",
       "      <td>20.09</td>\n",
       "      <td>R</td>\n",
       "      <td>1.00</td>\n",
       "      <td>12.8</td>\n",
       "      <td>25.4</td>\n",
       "      <td>[OII]</td>\n",
       "      <td>0.2987</td>\n",
       "      <td>0.00</td>\n",
       "      <td></td>\n",
       "      <td>12 37 11.68</td>\n",
       "      <td>+62 15 14.5</td>\n",
       "    </tr>\n",
       "    <tr>\n",
       "      <th>477</th>\n",
       "      <td>478</td>\n",
       "      <td>5023.20</td>\n",
       "      <td>334</td>\n",
       "      <td>6.2</td>\n",
       "      <td>7.2</td>\n",
       "      <td>4.1</td>\n",
       "      <td>20.09</td>\n",
       "      <td>R</td>\n",
       "      <td>1.00</td>\n",
       "      <td>1.4</td>\n",
       "      <td>2.4</td>\n",
       "      <td>[NeIII]3869</td>\n",
       "      <td>0.2983</td>\n",
       "      <td>0.00</td>\n",
       "      <td></td>\n",
       "      <td>12 37 11.69</td>\n",
       "      <td>+62 15 14.4</td>\n",
       "    </tr>\n",
       "    <tr>\n",
       "      <th>478</th>\n",
       "      <td>479</td>\n",
       "      <td>5677.75</td>\n",
       "      <td>295</td>\n",
       "      <td>8.3</td>\n",
       "      <td>15.5</td>\n",
       "      <td>5.2</td>\n",
       "      <td>21.67</td>\n",
       "      <td>R</td>\n",
       "      <td>0.97</td>\n",
       "      <td>14.0</td>\n",
       "      <td>24.6</td>\n",
       "      <td>[OII]</td>\n",
       "      <td>0.5234</td>\n",
       "      <td>0.03</td>\n",
       "      <td></td>\n",
       "      <td>12 37 13.52</td>\n",
       "      <td>+62 15 11.6</td>\n",
       "    </tr>\n",
       "  </tbody>\n",
       "</table>\n",
       "<p>479 rows × 17 columns</p>\n",
       "</div>"
      ],
      "text/plain": [
       "     HPS   lambda  FWHM   S/N   Flux  Spat    mag n_mag  Prob     EW  EWint  \\\n",
       "0      1  5219.16   229   8.1   17.4   4.7  23.05     R  0.93   51.9   62.9   \n",
       "1      2  5448.72   307   5.6   12.2   4.3  23.17     R  0.96   42.0   59.8   \n",
       "2      3  4973.93   422   7.5   19.9   4.4  24.31     R  0.98   58.8  109.0   \n",
       "3      4  5261.37  1285   6.3   42.6   5.1  21.05     R  0.98   10.4    7.1   \n",
       "4      5  4270.67  1841  33.1  342.1   4.8  21.05     R  1.00   54.9   55.1   \n",
       "5      6  4591.58   399  14.8   32.7   4.6  23.82     R  0.89   56.7   74.1   \n",
       "6      7  5161.72   293  19.5   49.4   4.7  21.38     R  0.98   31.2   48.3   \n",
       "7      8  5820.13   118   6.7   19.1   6.6  22.82     R  0.67   51.2   57.4   \n",
       "8      9  5464.33    78  12.1   14.1   3.6  23.21     R  0.98   51.0   49.0   \n",
       "9     10  4808.33   357  15.9   38.9   4.6  21.43     R  0.99   24.0   39.1   \n",
       "10    11  4590.82   441   6.6   21.2   5.9  23.93     R  0.56   40.8   39.3   \n",
       "11    12  4398.59   344   9.9   26.4   5.7  20.27     R  1.00    5.1   14.3   \n",
       "12    13  5250.96   378   7.8   11.7   3.6  24.91     R  0.70   62.9   92.3   \n",
       "13    14  4863.62   328  21.8   49.6   5.5  21.69     R  1.00   39.3   55.5   \n",
       "14    15  4919.31   243  21.7   36.2   4.9  20.62     R  1.00   10.7   18.8   \n",
       "15    16  4901.07   397   5.9   13.7   5.3  22.17     R  0.84   17.0   25.8   \n",
       "16    17  4588.13    93   5.9   13.2   5.3  24.33     R  0.96   36.4   34.2   \n",
       "17    18  5655.44   972   8.2   45.4   5.6  20.49     R  0.74   14.4   20.4   \n",
       "18    19  5452.07   438  26.8   83.6   5.6  20.48     R  0.75   24.3   41.1   \n",
       "19    20  5788.83   303   8.9   21.8   5.1  21.80     R  0.99   22.7   27.0   \n",
       "20    21  5448.33   277   8.6    8.8   3.3  23.13     R  0.60   29.5   40.2   \n",
       "21    22  4586.30   603   7.4   17.7   5.2  25.14     R  0.81  103.4  682.6   \n",
       "22    23  4540.36   323   9.4   18.5   4.6  22.44     R  1.00   27.1   44.1   \n",
       "23    24  4592.57   204   8.8   14.3   4.0  22.03     R  1.00   14.6   21.2   \n",
       "24    25  4319.48   810  14.1   64.3   6.2  24.27     R  0.98  158.9  256.4   \n",
       "25    26  5336.44   306  34.7   79.4   4.4  20.75     R  0.68   28.8   42.7   \n",
       "26    27  5805.02    74  18.1   34.7   4.5  21.25     R  0.99   29.4   31.4   \n",
       "27    28  5636.41    76   7.9   15.7   4.7  21.23     R  0.99   12.3   13.6   \n",
       "28    29  4322.09   204  23.1   48.0   3.9  21.22     R  0.99   21.9   42.1   \n",
       "29    30  5749.30    92   5.8   10.5   4.6  21.23     R  0.98    8.6    9.3   \n",
       "..   ...      ...   ...   ...    ...   ...    ...   ...   ...    ...    ...   \n",
       "449  450  5645.65   275   8.5    8.9   2.8  22.78     R  0.36   22.2   29.6   \n",
       "450  451  5303.80   409   6.6   11.3   5.1  20.76     R  0.80    4.1   10.2   \n",
       "451  452  5256.55   131   7.0   11.6   4.7  21.00     R  0.98    5.2   10.9   \n",
       "452  453  4386.82  1074   6.8   11.3   2.0  19.06     R  1.00    0.7    1.7   \n",
       "453  454  5633.22   176   9.6   16.4   5.0  22.56     R  0.99   33.3   50.9   \n",
       "454  455  5631.72    76   9.3   15.1   5.6  19.06     R  1.00    1.6    2.1   \n",
       "455  456  5686.34   144  19.9   30.5   5.0  19.06     R  1.00    3.4    4.2   \n",
       "456  457  5521.00    78  16.6   26.7   5.4  19.06     R  1.00    2.8    3.7   \n",
       "457  458  4233.33   235  44.5  114.3   5.4  19.06     R  1.00    7.0   17.9   \n",
       "458  459  4925.27   280  13.9   30.4   3.7  22.09     R  0.92   35.2   52.4   \n",
       "459  460  5496.46   347  12.8   19.8   4.5  21.76     R  0.99   18.9   35.5   \n",
       "460  461  4977.89   479   9.2   13.5   4.2  24.39     R  0.82   54.2   56.1   \n",
       "461  462  3905.67   546  12.4   78.9   6.4  24.39     R  0.96  195.4  335.2   \n",
       "462  463  5256.63   334  14.7   29.2   4.1  21.96     R  0.72   32.0   62.4   \n",
       "463  464  5814.80   253   5.7    9.4   4.9  21.39     R  1.00    6.7   10.6   \n",
       "464  465  5169.47   259   8.1   15.6   6.0  22.59     R  0.97   30.0   55.3   \n",
       "465  466  5152.53   371  14.6   20.5   4.2  23.55     R  0.94   31.0   58.9   \n",
       "466  467  4622.35    93   6.0    9.4   4.8            R  0.02  270.7  296.8   \n",
       "467  468  5804.44   296  12.9   16.5   4.0  22.70     R  0.98   39.6   52.3   \n",
       "468  469  5302.28   389  34.5   70.3   5.2  20.32     R  0.95   17.1   30.1   \n",
       "469  470  5823.58   274  12.6   20.1   5.1  22.19     R  0.98   30.2   42.3   \n",
       "470  471  5258.97   287  14.6   24.7   5.0  21.01     R  0.94   11.3   21.1   \n",
       "471  472  5527.22   217   5.6    3.9   3.1  23.29     R  0.47   15.4   23.9   \n",
       "472  473  5497.45   478   5.9    7.5   3.5  23.16     R  0.96   25.8   46.7   \n",
       "473  474  3980.21   564   5.6   13.6   4.2  25.14     R  0.23   68.6  102.0   \n",
       "474  475  5256.73   427   5.6   11.2   4.0  21.94     R  0.83   12.1   23.0   \n",
       "475  476  5264.56   440  12.7   19.1   4.0  22.02     R  0.97   22.1   38.0   \n",
       "476  477  4840.35   303  38.1   70.8   5.1  20.09     R  1.00   12.8   25.4   \n",
       "477  478  5023.20   334   6.2    7.2   4.1  20.09     R  1.00    1.4    2.4   \n",
       "478  479  5677.75   295   8.3   15.5   5.2  21.67     R  0.97   14.0   24.6   \n",
       "\n",
       "           Trans       z   Lya             X-ray      RAJ2000      DEJ2000  \n",
       "0    [OII]        0.4004  0.07                    02 21 11.16  -04 31 25.0  \n",
       "1    [OII]        0.4620  0.04                    02 21 12.21  -04 32 25.3  \n",
       "2    Ly{alpha}    3.0915  1.00                    02 21 14.28  -04 31 38.2  \n",
       "3    CIII]1909    1.7561  0.02  J0221151-043156   02 21 14.86  -04 31 56.6  \n",
       "4    CIV1549      1.7570  0.00  J0221151-043156   02 21 15.14  -04 31 54.0  \n",
       "5    Ly{alpha}    2.7770  1.00                    02 21 16.26  -04 29 32.8  \n",
       "6    [OII]        0.3850  0.02                    02 21 16.35  -04 31 14.6  \n",
       "7    [OII]        0.5616  0.01                    02 21 17.25  -04 27 55.7  \n",
       "8    [OII]        0.4661  0.02                    02 21 17.25  -04 30 10.4  \n",
       "9    [OII]        0.2901  0.01                    02 21 17.47  -04 27 30.6  \n",
       "10   Ly{alpha}    2.7764  1.00                    02 21 18.48  -04 27 32.2  \n",
       "11   [OII]        0.1802  0.00                    02 21 19.20  -04 30 28.9  \n",
       "12   Ly{alpha}    3.3194  1.00                    02 21 19.22  -04 30 39.9  \n",
       "13   [OII]        0.3050  0.00                    02 21 19.47  -04 28 21.9  \n",
       "14   [OII]        0.3199  0.00                    02 21 19.48  -04 29 34.0  \n",
       "15   [OII]        0.3150  0.00                    02 21 19.83  -04 28 08.8  \n",
       "16   Ly{alpha}    2.7742  1.00                    02 21 19.85  -04 27 43.4  \n",
       "17   [NeIII]3869  0.4617  0.00                    02 21 20.77  -04 30 56.6  \n",
       "18   [OII]        0.4629  0.00                    02 21 20.78  -04 30 56.4  \n",
       "19   [OII]        0.5532  0.01                    02 21 21.27  -04 27 44.6  \n",
       "20   [OII]        0.4619  0.03                    02 21 22.13  -04 30 35.0  \n",
       "21   Ly{alpha}    2.7727  1.00                    02 21 22.84  -04 29 25.2  \n",
       "22   [OII]        0.2182  0.00                    02 21 22.88  -04 29 44.3  \n",
       "23   [OII]        0.2322  0.00                    02 21 23.28  -04 29 22.3  \n",
       "24   Ly{alpha}    2.5532  1.00                    02 21 23.47  -04 29 09.4  \n",
       "25   [OII]        0.4318  0.32                    02 21 23.78  -04 30 00.2  \n",
       "26   [OIII]5007   0.1594  0.01                    02 21 24.45  -04 30 01.8  \n",
       "27   H{beta}      0.1595  0.01                    02 21 24.47  -04 30 01.3  \n",
       "28   [OII]        0.1597  0.01                    02 21 24.48  -04 30 00.8  \n",
       "29   [OIII]4959   0.1594  0.02                    02 21 24.49  -04 30 02.0  \n",
       "..           ...     ...   ...               ...          ...          ...  \n",
       "449  [OII]        0.5148  0.00  J1236597+621404   12 36 59.85  +62 14 05.9  \n",
       "450  [OII]        0.4231  0.01  J1236597+621404   12 37 00.31  +62 14 06.5  \n",
       "451  [OII]        0.4104  0.02                    12 37 01.73  +62 13 22.8  \n",
       "452  [NeIII]3869  0.1338  0.00  J1237020+621122   12 37 01.94  +62 11 23.6  \n",
       "453  [OII]        0.5115  0.01                    12 37 01.96  +62 13 49.4  \n",
       "454  [OIII]4959   0.1357  0.00  J1237020+621122   12 37 02.05  +62 11 24.0  \n",
       "455  [OIII]5007   0.1357  0.00  J1237020+621122   12 37 02.08  +62 11 24.1  \n",
       "456  H{beta}      0.1358  0.00  J1237020+621122   12 37 02.09  +62 11 24.5  \n",
       "457  [OII]        0.1359  0.00  J1237020+621122   12 37 02.14  +62 11 23.7  \n",
       "458  [OII]        0.3215  0.07                    12 37 03.92  +62 10 11.1  \n",
       "459  [OII]        0.4748  0.01                    12 37 04.02  +62 14 42.5  \n",
       "460  CIV1549      2.2136  0.08                    12 37 04.17  +62 14 46.7  \n",
       "461  Ly{alpha}    2.2128  1.00                    12 37 04.49  +62 14 46.6  \n",
       "462  [OII]        0.4104  0.28                    12 37 04.55  +62 10 29.9  \n",
       "463  [OII]        0.5602  0.00  J1237046+621429   12 37 04.59  +62 14 29.5  \n",
       "464  [OII]        0.3870  0.03                    12 37 05.21  +62 12 11.7  \n",
       "465  Ly{alpha}    3.2384  1.00                    12 37 05.85  +62 15 03.1  \n",
       "466  Ly{alpha}    2.8023  1.00                    12 37 07.53  +62 11 38.3  \n",
       "467  [OII]        0.5574  0.02                    12 37 07.74  +62 11 39.4  \n",
       "468  [OII]        0.4227  0.05  J1237083+621056   12 37 08.19  +62 10 57.1  \n",
       "469  [OII]        0.5625  0.01                    12 37 08.24  +62 14 55.0  \n",
       "470  [OII]        0.4110  0.00                    12 37 08.76  +62 10 52.1  \n",
       "471  [OII]        0.4830  0.03                    12 37 10.81  +62 10 50.2  \n",
       "472  [OII]        0.4750  0.02                    12 37 10.93  +62 11 30.5  \n",
       "473  Ly{alpha}    2.2741  0.28                    12 37 11.00  +62 11 40.9  \n",
       "474  [OII]        0.4104  0.08                    12 37 11.50  +62 11 29.4  \n",
       "475  [OII]        0.4125  0.03                    12 37 11.60  +62 10 21.1  \n",
       "476  [OII]        0.2987  0.00                    12 37 11.68  +62 15 14.5  \n",
       "477  [NeIII]3869  0.2983  0.00                    12 37 11.69  +62 15 14.4  \n",
       "478  [OII]        0.5234  0.03                    12 37 13.52  +62 15 11.6  \n",
       "\n",
       "[479 rows x 17 columns]"
      ]
     },
     "execution_count": 9,
     "metadata": {},
     "output_type": "execute_result"
    }
   ],
   "source": [
    "#importing data with pandas \n",
    "\n",
    "#Because the file has such a large header you need to tell it which row you want it to use for the column names (header)\n",
    "#Tell it to skip the rows below it that have the units and the line \n",
    "#If you don't care about the header information it is sometimes easier to just delete it from the top of the file\n",
    "#  if you delete the header just make sure to leave the top row of column names\n",
    "hps_pd = pd.read_table('hps_catalog.txt', delimiter=None, header=62, skiprows=[64, 65]) #why is there a gap between\n",
    "#64 and 65? those lines are sequential in the text file. how does it count line 62? regardless of which line it is\n",
    "#in the text file, python seems to have zero-indexed it\n",
    "hps_pd"
   ]
  },
  {
   "cell_type": "markdown",
   "metadata": {
    "slideshow": {
     "slide_type": "slide"
    }
   },
   "source": [
    "### Astropy supports different file formats (commonly used in astronomy) that Pandas doesn't\n",
    "* some of the formats are more astronomy specific (ex. fits)\n",
    "* It does allow you to save tables as deluxe latex tables which is extremely useful!\n",
    "* It also will read in a row of units for columns (useful when reading in catalogs)\n",
    "* A [list of the format Astropy supports](http://docs.astropy.org/en/stable/io/unified.html#built-in-readers-writers)"
   ]
  },
  {
   "cell_type": "code",
   "execution_count": 6,
   "metadata": {
    "slideshow": {
     "slide_type": "slide"
    }
   },
   "outputs": [
    {
     "data": {
      "text/html": [
       "<i>Table length=481</i>\n",
       "<table id=\"table112140146448\" class=\"table-striped table-bordered table-condensed\">\n",
       "<thead><tr><th>HPS</th><th>lambda</th><th>FWHM</th><th>S/N</th><th>Flux</th><th>Spat</th><th>mag</th><th>n_mag</th><th>Prob</th><th>EW</th><th>EWint</th><th>Trans</th><th>z</th><th>Lya</th><th>X-ray</th><th>RAJ2000</th><th>DEJ2000</th></tr></thead>\n",
       "<thead><tr><th>str3</th><th>str7</th><th>str4</th><th>str5</th><th>str9</th><th>str6</th><th>str5</th><th>str1</th><th>str5</th><th>str6</th><th>str6</th><th>str11</th><th>str7</th><th>str5</th><th>str16</th><th>str11</th><th>str11</th></tr></thead>\n",
       "<tr><td></td><td>0.1nm</td><td>km/s</td><td></td><td>10-20W/m2</td><td>arcsec</td><td>mag</td><td></td><td></td><td>0.1nm</td><td>0.1nm</td><td></td><td></td><td></td><td></td><td>h:m:s</td><td>d:m:s</td></tr>\n",
       "<tr><td>---</td><td>-------</td><td>----</td><td>-----</td><td>------</td><td>----</td><td>-----</td><td>-</td><td>-----</td><td>------</td><td>------</td><td>-----------</td><td>-------</td><td>-----</td><td>----------------</td><td>-----------</td><td>-----------</td></tr>\n",
       "<tr><td>1</td><td>5219.16</td><td>229</td><td>8.1</td><td>17.4</td><td>4.7</td><td>23.05</td><td>R</td><td>0.93</td><td>51.9</td><td>62.9</td><td>[OII]</td><td>0.4004</td><td>0.07</td><td></td><td>02 21 11.16</td><td>-04 31 25.0</td></tr>\n",
       "<tr><td>2</td><td>5448.72</td><td>307</td><td>5.6</td><td>12.2</td><td>4.3</td><td>23.17</td><td>R</td><td>0.96</td><td>42.0</td><td>59.8</td><td>[OII]</td><td>0.4620</td><td>0.04</td><td></td><td>02 21 12.21</td><td>-04 32 25.3</td></tr>\n",
       "<tr><td>3</td><td>4973.93</td><td>422</td><td>7.5</td><td>19.9</td><td>4.4</td><td>24.31</td><td>R</td><td>0.98</td><td>58.8</td><td>109.0</td><td>Ly{alpha}</td><td>3.0915</td><td>1.00</td><td></td><td>02 21 14.28</td><td>-04 31 38.2</td></tr>\n",
       "<tr><td>4</td><td>5261.37</td><td>1285</td><td>6.3</td><td>42.6</td><td>5.1</td><td>21.05</td><td>R</td><td>0.98</td><td>10.4</td><td>7.1</td><td>CIII]1909</td><td>1.7561</td><td>0.02</td><td>J0221151-043156</td><td>02 21 14.86</td><td>-04 31 56.6</td></tr>\n",
       "<tr><td>5</td><td>4270.67</td><td>1841</td><td>33.1</td><td>342.1</td><td>4.8</td><td>21.05</td><td>R</td><td>1.00</td><td>54.9</td><td>55.1</td><td>CIV1549</td><td>1.7570</td><td>0.00</td><td>J0221151-043156</td><td>02 21 15.14</td><td>-04 31 54.0</td></tr>\n",
       "<tr><td>6</td><td>4591.58</td><td>399</td><td>14.8</td><td>32.7</td><td>4.6</td><td>23.82</td><td>R</td><td>0.89</td><td>56.7</td><td>74.1</td><td>Ly{alpha}</td><td>2.7770</td><td>1.00</td><td></td><td>02 21 16.26</td><td>-04 29 32.8</td></tr>\n",
       "<tr><td>7</td><td>5161.72</td><td>293</td><td>19.5</td><td>49.4</td><td>4.7</td><td>21.38</td><td>R</td><td>0.98</td><td>31.2</td><td>48.3</td><td>[OII]</td><td>0.3850</td><td>0.02</td><td></td><td>02 21 16.35</td><td>-04 31 14.6</td></tr>\n",
       "<tr><td>8</td><td>5820.13</td><td>118</td><td>6.7</td><td>19.1</td><td>6.6</td><td>22.82</td><td>R</td><td>0.67</td><td>51.2</td><td>57.4</td><td>[OII]</td><td>0.5616</td><td>0.01</td><td></td><td>02 21 17.25</td><td>-04 27 55.7</td></tr>\n",
       "<tr><td>...</td><td>...</td><td>...</td><td>...</td><td>...</td><td>...</td><td>...</td><td>...</td><td>...</td><td>...</td><td>...</td><td>...</td><td>...</td><td>...</td><td>...</td><td>...</td><td>...</td></tr>\n",
       "<tr><td>470</td><td>5823.58</td><td>274</td><td>12.6</td><td>20.1</td><td>5.1</td><td>22.19</td><td>R</td><td>0.98</td><td>30.2</td><td>42.3</td><td>[OII]</td><td>0.5625</td><td>0.01</td><td></td><td>12 37 08.24</td><td>+62 14 55.0</td></tr>\n",
       "<tr><td>471</td><td>5258.97</td><td>287</td><td>14.6</td><td>24.7</td><td>5.0</td><td>21.01</td><td>R</td><td>0.94</td><td>11.3</td><td>21.1</td><td>[OII]</td><td>0.4110</td><td>0.00</td><td></td><td>12 37 08.76</td><td>+62 10 52.1</td></tr>\n",
       "<tr><td>472</td><td>5527.22</td><td>217</td><td>5.6</td><td>3.9</td><td>3.1</td><td>23.29</td><td>R</td><td>0.47</td><td>15.4</td><td>23.9</td><td>[OII]</td><td>0.4830</td><td>0.03</td><td></td><td>12 37 10.81</td><td>+62 10 50.2</td></tr>\n",
       "<tr><td>473</td><td>5497.45</td><td>478</td><td>5.9</td><td>7.5</td><td>3.5</td><td>23.16</td><td>R</td><td>0.96</td><td>25.8</td><td>46.7</td><td>[OII]</td><td>0.4750</td><td>0.02</td><td></td><td>12 37 10.93</td><td>+62 11 30.5</td></tr>\n",
       "<tr><td>474</td><td>3980.21</td><td>564</td><td>5.6</td><td>13.6</td><td>4.2</td><td>25.14</td><td>R</td><td>0.23</td><td>68.6</td><td>102.0</td><td>Ly{alpha}</td><td>2.2741</td><td>0.28</td><td></td><td>12 37 11.00</td><td>+62 11 40.9</td></tr>\n",
       "<tr><td>475</td><td>5256.73</td><td>427</td><td>5.6</td><td>11.2</td><td>4.0</td><td>21.94</td><td>R</td><td>0.83</td><td>12.1</td><td>23.0</td><td>[OII]</td><td>0.4104</td><td>0.08</td><td></td><td>12 37 11.50</td><td>+62 11 29.4</td></tr>\n",
       "<tr><td>476</td><td>5264.56</td><td>440</td><td>12.7</td><td>19.1</td><td>4.0</td><td>22.02</td><td>R</td><td>0.97</td><td>22.1</td><td>38.0</td><td>[OII]</td><td>0.4125</td><td>0.03</td><td></td><td>12 37 11.60</td><td>+62 10 21.1</td></tr>\n",
       "<tr><td>477</td><td>4840.35</td><td>303</td><td>38.1</td><td>70.8</td><td>5.1</td><td>20.09</td><td>R</td><td>1.00</td><td>12.8</td><td>25.4</td><td>[OII]</td><td>0.2987</td><td>0.00</td><td></td><td>12 37 11.68</td><td>+62 15 14.5</td></tr>\n",
       "<tr><td>478</td><td>5023.20</td><td>334</td><td>6.2</td><td>7.2</td><td>4.1</td><td>20.09</td><td>R</td><td>1.00</td><td>1.4</td><td>2.4</td><td>[NeIII]3869</td><td>0.2983</td><td>0.00</td><td></td><td>12 37 11.69</td><td>+62 15 14.4</td></tr>\n",
       "<tr><td>479</td><td>5677.75</td><td>295</td><td>8.3</td><td>15.5</td><td>5.2</td><td>21.67</td><td>R</td><td>0.97</td><td>14.0</td><td>24.6</td><td>[OII]</td><td>0.5234</td><td>0.03</td><td></td><td>12 37 13.52</td><td>+62 15 11.6</td></tr>\n",
       "</table>"
      ],
      "text/plain": [
       "<Table length=481>\n",
       "HPS   lambda FWHM  S/N  ...  Lya       X-ray         RAJ2000     DEJ2000  \n",
       "str3   str7  str4  str5 ...  str5      str16          str11       str11   \n",
       "---- ------- ---- ----- ... ----- ---------------- ----------- -----------\n",
       "       0.1nm km/s       ...                              h:m:s       d:m:s\n",
       " --- ------- ---- ----- ... ----- ---------------- ----------- -----------\n",
       "   1 5219.16  229   8.1 ...  0.07                  02 21 11.16 -04 31 25.0\n",
       "   2 5448.72  307   5.6 ...  0.04                  02 21 12.21 -04 32 25.3\n",
       "   3 4973.93  422   7.5 ...  1.00                  02 21 14.28 -04 31 38.2\n",
       "   4 5261.37 1285   6.3 ...  0.02 J0221151-043156  02 21 14.86 -04 31 56.6\n",
       "   5 4270.67 1841  33.1 ...  0.00 J0221151-043156  02 21 15.14 -04 31 54.0\n",
       "   6 4591.58  399  14.8 ...  1.00                  02 21 16.26 -04 29 32.8\n",
       "   7 5161.72  293  19.5 ...  0.02                  02 21 16.35 -04 31 14.6\n",
       "   8 5820.13  118   6.7 ...  0.01                  02 21 17.25 -04 27 55.7\n",
       " ...     ...  ...   ... ...   ...              ...         ...         ...\n",
       " 470 5823.58  274  12.6 ...  0.01                  12 37 08.24 +62 14 55.0\n",
       " 471 5258.97  287  14.6 ...  0.00                  12 37 08.76 +62 10 52.1\n",
       " 472 5527.22  217   5.6 ...  0.03                  12 37 10.81 +62 10 50.2\n",
       " 473 5497.45  478   5.9 ...  0.02                  12 37 10.93 +62 11 30.5\n",
       " 474 3980.21  564   5.6 ...  0.28                  12 37 11.00 +62 11 40.9\n",
       " 475 5256.73  427   5.6 ...  0.08                  12 37 11.50 +62 11 29.4\n",
       " 476 5264.56  440  12.7 ...  0.03                  12 37 11.60 +62 10 21.1\n",
       " 477 4840.35  303  38.1 ...  0.00                  12 37 11.68 +62 15 14.5\n",
       " 478 5023.20  334   6.2 ...  0.00                  12 37 11.69 +62 15 14.4\n",
       " 479 5677.75  295   8.3 ...  0.03                  12 37 13.52 +62 15 11.6"
      ]
     },
     "execution_count": 6,
     "metadata": {},
     "output_type": "execute_result"
    }
   ],
   "source": [
    "#importing data with astropy tables\n",
    "\n",
    "hps_at = Table.read('hps_catalog.txt', format='ascii')\n",
    "hps_at #what does this line do? it prints hps_at\n"
   ]
  },
  {
   "cell_type": "markdown",
   "metadata": {
    "slideshow": {
     "slide_type": "slide"
    }
   },
   "source": [
    "## Reading in with Pandas vs. Astropy Tables \n",
    "* You can see that Tables did not automatically pick up on there being two rows under the column names that are not data\n",
    "* the Tables read function does not have arguments for formating files like pandas \n",
    "* so unless your data fits the formats provided astropy tables can be annoying to work with \n",
    "* I usually have to format the file before I try to read it in with astropy tables \n",
    "* Pandas provides a lot more flexlibilty "
   ]
  },
  {
   "cell_type": "markdown",
   "metadata": {
    "slideshow": {
     "slide_type": "slide"
    }
   },
   "source": [
    "## However, you can also load it in with Astropy Tables using Astroquery\n",
    "* Astroquery allows you to load in a catalog from a bunch of different sources \n",
    "* [Here](https://astroquery.readthedocs.io/en/latest/#catalog-archive-and-other) is a list of all of the catalogs and archives that now work with astroquery (some are better supported than others)\n",
    "* [Here](http://astroquery.readthedocs.io/en/latest/gallery.html) is a page with astroquery examples for some of the databases "
   ]
  },
  {
   "cell_type": "code",
   "execution_count": 7,
   "metadata": {
    "slideshow": {
     "slide_type": "slide"
    }
   },
   "outputs": [
    {
     "data": {
      "text/html": [
       "<i>Table masked=True length=50</i>\n",
       "<table id=\"table112140147568\" class=\"table-striped table-bordered table-condensed\">\n",
       "<thead><tr><th>HPS</th><th>lambda</th><th>FWHM</th><th>S_N</th><th>Flux</th><th>Spat</th><th>mag</th><th>n_mag</th><th>Prob</th><th>EW</th><th>EWint</th><th>Trans</th><th>z</th><th>Lya</th><th>X-ray</th><th>Simbad</th><th>RAJ2000</th><th>DEJ2000</th></tr></thead>\n",
       "<thead><tr><th></th><th>0.1 nm</th><th>km / s</th><th></th><th>1e-20 W / m2</th><th>arcs</th><th>mag</th><th></th><th></th><th>0.1 nm</th><th>0.1 nm</th><th></th><th></th><th></th><th></th><th></th><th>&quot;h:m:s&quot;</th><th>&quot;d:m:s&quot;</th></tr></thead>\n",
       "<thead><tr><th>int16</th><th>float32</th><th>int16</th><th>float32</th><th>float32</th><th>float32</th><th>float32</th><th>bytes1</th><th>float32</th><th>float32</th><th>float32</th><th>bytes11</th><th>float32</th><th>float32</th><th>bytes16</th><th>bytes6</th><th>bytes11</th><th>bytes11</th></tr></thead>\n",
       "<tr><td>1</td><td>5219.16</td><td>229</td><td>8.1</td><td>17.4</td><td>4.7</td><td>23.05</td><td>R</td><td>0.93</td><td>51.9</td><td>62.9</td><td>[OII]</td><td>0.4004</td><td>0.07</td><td></td><td>Simbad</td><td>02 21 11.16</td><td>-04 31 25.0</td></tr>\n",
       "<tr><td>2</td><td>5448.72</td><td>307</td><td>5.6</td><td>12.2</td><td>4.3</td><td>23.17</td><td>R</td><td>0.96</td><td>42.0</td><td>59.8</td><td>[OII]</td><td>0.4620</td><td>0.04</td><td></td><td>Simbad</td><td>02 21 12.21</td><td>-04 32 25.3</td></tr>\n",
       "<tr><td>3</td><td>4973.93</td><td>422</td><td>7.5</td><td>19.9</td><td>4.4</td><td>24.31</td><td>R</td><td>0.98</td><td>58.8</td><td>109.0</td><td>Ly{alpha}</td><td>3.0915</td><td>1.00</td><td></td><td>Simbad</td><td>02 21 14.28</td><td>-04 31 38.2</td></tr>\n",
       "<tr><td>4</td><td>5261.37</td><td>1285</td><td>6.3</td><td>42.6</td><td>5.1</td><td>21.05</td><td>R</td><td>0.98</td><td>10.4</td><td>7.1</td><td>CIII]1909</td><td>1.7561</td><td>0.02</td><td>J0221151-043156</td><td>Simbad</td><td>02 21 14.86</td><td>-04 31 56.6</td></tr>\n",
       "<tr><td>5</td><td>4270.67</td><td>1841</td><td>33.1</td><td>342.1</td><td>4.8</td><td>21.05</td><td>R</td><td>1.00</td><td>54.9</td><td>55.1</td><td>CIV1549</td><td>1.7570</td><td>0.00</td><td>J0221151-043156</td><td>Simbad</td><td>02 21 15.14</td><td>-04 31 54.0</td></tr>\n",
       "<tr><td>6</td><td>4591.58</td><td>399</td><td>14.8</td><td>32.7</td><td>4.6</td><td>23.82</td><td>R</td><td>0.89</td><td>56.7</td><td>74.1</td><td>Ly{alpha}</td><td>2.7770</td><td>1.00</td><td></td><td>Simbad</td><td>02 21 16.26</td><td>-04 29 32.8</td></tr>\n",
       "<tr><td>7</td><td>5161.72</td><td>293</td><td>19.5</td><td>49.4</td><td>4.7</td><td>21.38</td><td>R</td><td>0.98</td><td>31.2</td><td>48.3</td><td>[OII]</td><td>0.3850</td><td>0.02</td><td></td><td>Simbad</td><td>02 21 16.35</td><td>-04 31 14.6</td></tr>\n",
       "<tr><td>8</td><td>5820.13</td><td>118</td><td>6.7</td><td>19.1</td><td>6.6</td><td>22.82</td><td>R</td><td>0.67</td><td>51.2</td><td>57.4</td><td>[OII]</td><td>0.5616</td><td>0.01</td><td></td><td>Simbad</td><td>02 21 17.25</td><td>-04 27 55.7</td></tr>\n",
       "<tr><td>9</td><td>5464.33</td><td>78</td><td>12.1</td><td>14.1</td><td>3.6</td><td>23.21</td><td>R</td><td>0.98</td><td>51.0</td><td>49.0</td><td>[OII]</td><td>0.4661</td><td>0.02</td><td></td><td>Simbad</td><td>02 21 17.25</td><td>-04 30 10.4</td></tr>\n",
       "<tr><td>...</td><td>...</td><td>...</td><td>...</td><td>...</td><td>...</td><td>...</td><td>...</td><td>...</td><td>...</td><td>...</td><td>...</td><td>...</td><td>...</td><td>...</td><td>...</td><td>...</td><td>...</td></tr>\n",
       "<tr><td>41</td><td>4562.73</td><td>393</td><td>6.3</td><td>14.2</td><td>3.9</td><td>22.01</td><td>R</td><td>0.99</td><td>14.1</td><td>25.5</td><td>[OII]</td><td>0.2242</td><td>0.01</td><td></td><td>Simbad</td><td>02 21 30.08</td><td>-04 30 46.9</td></tr>\n",
       "<tr><td>42</td><td>4607.42</td><td>216</td><td>7.9</td><td>54.0</td><td>6.5</td><td>20.43</td><td>i</td><td>0.99</td><td>12.7</td><td>52.7</td><td>[OII]</td><td>0.2362</td><td>0.00</td><td></td><td>Simbad</td><td>03 06 30.22</td><td>+00 03 51.9</td></tr>\n",
       "<tr><td>43</td><td>5601.44</td><td>76</td><td>7.2</td><td>24.5</td><td>5.1</td><td>20.73</td><td>i</td><td>0.95</td><td>12.4</td><td>18.2</td><td>[OIII]5007</td><td>0.1187</td><td>0.05</td><td></td><td>Simbad</td><td>03 06 30.67</td><td>+00 01 27.1</td></tr>\n",
       "<tr><td>44</td><td>4170.97</td><td>251</td><td>7.2</td><td>43.7</td><td>5.7</td><td>20.73</td><td>i</td><td>0.99</td><td>12.3</td><td>36.9</td><td>[OII]</td><td>0.1191</td><td>0.01</td><td></td><td>Simbad</td><td>03 06 30.73</td><td>+00 01 28.8</td></tr>\n",
       "<tr><td>45</td><td>5112.96</td><td>359</td><td>7.2</td><td>21.1</td><td>4.8</td><td>21.85</td><td>i</td><td>0.99</td><td>20.3</td><td>38.7</td><td>[OII]</td><td>0.3719</td><td>0.01</td><td></td><td>Simbad</td><td>03 06 31.95</td><td>+00 01 46.0</td></tr>\n",
       "<tr><td>46</td><td>5112.48</td><td>410</td><td>18.4</td><td>57.8</td><td>4.8</td><td>20.90</td><td>i</td><td>1.00</td><td>23.2</td><td>50.3</td><td>[OII]</td><td>0.3717</td><td>0.00</td><td></td><td>Simbad</td><td>03 06 32.73</td><td>+00 01 50.1</td></tr>\n",
       "<tr><td>47</td><td>5716.24</td><td>380</td><td>8.9</td><td>32.0</td><td>5.3</td><td>21.17</td><td>i</td><td>0.91</td><td>18.5</td><td>30.1</td><td>[OII]</td><td>0.5337</td><td>0.02</td><td></td><td>Simbad</td><td>03 06 33.34</td><td>-00 01 31.5</td></tr>\n",
       "<tr><td>48</td><td>5674.73</td><td>330</td><td>20.0</td><td>78.9</td><td>6.4</td><td>21.25</td><td>i</td><td>0.67</td><td>48.5</td><td>81.2</td><td>[OII]</td><td>0.5226</td><td>0.25</td><td></td><td>Simbad</td><td>03 06 33.57</td><td>-00 01 31.0</td></tr>\n",
       "<tr><td>49</td><td>5100.63</td><td>382</td><td>7.4</td><td>33.0</td><td>6.8</td><td>21.69</td><td>i</td><td>1.00</td><td>27.4</td><td>57.9</td><td>[OII]</td><td>0.3686</td><td>0.00</td><td></td><td>Simbad</td><td>03 06 34.23</td><td>-00 00 47.1</td></tr>\n",
       "<tr><td>50</td><td>5093.97</td><td>226</td><td>6.2</td><td>13.4</td><td>5.5</td><td>20.05</td><td>i</td><td>1.00</td><td>2.4</td><td>6.9</td><td>[OII]</td><td>0.3668</td><td>0.00</td><td></td><td>Simbad</td><td>03 06 34.24</td><td>+00 00 20.8</td></tr>\n",
       "</table>"
      ],
      "text/plain": [
       "<Table masked=True length=50>\n",
       " HPS   lambda  FWHM    S_N   ...      X-ray      Simbad   RAJ2000     DEJ2000  \n",
       "       0.1 nm km / s         ...                          \"h:m:s\"     \"d:m:s\"  \n",
       "int16 float32 int16  float32 ...     bytes16     bytes6   bytes11     bytes11  \n",
       "----- ------- ------ ------- ... --------------- ------ ----------- -----------\n",
       "    1 5219.16    229     8.1 ...                 Simbad 02 21 11.16 -04 31 25.0\n",
       "    2 5448.72    307     5.6 ...                 Simbad 02 21 12.21 -04 32 25.3\n",
       "    3 4973.93    422     7.5 ...                 Simbad 02 21 14.28 -04 31 38.2\n",
       "    4 5261.37   1285     6.3 ... J0221151-043156 Simbad 02 21 14.86 -04 31 56.6\n",
       "    5 4270.67   1841    33.1 ... J0221151-043156 Simbad 02 21 15.14 -04 31 54.0\n",
       "    6 4591.58    399    14.8 ...                 Simbad 02 21 16.26 -04 29 32.8\n",
       "    7 5161.72    293    19.5 ...                 Simbad 02 21 16.35 -04 31 14.6\n",
       "    8 5820.13    118     6.7 ...                 Simbad 02 21 17.25 -04 27 55.7\n",
       "    9 5464.33     78    12.1 ...                 Simbad 02 21 17.25 -04 30 10.4\n",
       "  ...     ...    ...     ... ...             ...    ...         ...         ...\n",
       "   41 4562.73    393     6.3 ...                 Simbad 02 21 30.08 -04 30 46.9\n",
       "   42 4607.42    216     7.9 ...                 Simbad 03 06 30.22 +00 03 51.9\n",
       "   43 5601.44     76     7.2 ...                 Simbad 03 06 30.67 +00 01 27.1\n",
       "   44 4170.97    251     7.2 ...                 Simbad 03 06 30.73 +00 01 28.8\n",
       "   45 5112.96    359     7.2 ...                 Simbad 03 06 31.95 +00 01 46.0\n",
       "   46 5112.48    410    18.4 ...                 Simbad 03 06 32.73 +00 01 50.1\n",
       "   47 5716.24    380     8.9 ...                 Simbad 03 06 33.34 -00 01 31.5\n",
       "   48 5674.73    330    20.0 ...                 Simbad 03 06 33.57 -00 01 31.0\n",
       "   49 5100.63    382     7.4 ...                 Simbad 03 06 34.23 -00 00 47.1\n",
       "   50 5093.97    226     6.2 ...                 Simbad 03 06 34.24 +00 00 20.8"
      ]
     },
     "execution_count": 7,
     "metadata": {},
     "output_type": "execute_result"
    }
   ],
   "source": [
    "#queries with astropy (Vizier)\n",
    "\n",
    "hps_catalog_list = Vizier.find_catalogs('J/ApJS/192/5/')\n",
    "hps_catalogs = Vizier.get_catalogs(hps_catalog_list.keys())\n",
    "hps_at = hps_catalogs[0]\n",
    "\n",
    "hps_at\n",
    "#hps_at.show_in_notebook() #This is a tool for viewing astropy tables in a Jupyter notebook\n",
    "#hps_at.show_in_browser(jsviewer=True) #this is a tool for viewing a searchable astropy table in a web browser"
   ]
  },
  {
   "cell_type": "markdown",
   "metadata": {
    "slideshow": {
     "slide_type": "slide"
    }
   },
   "source": [
    "## Interfacing between pandas and astropy tables \n",
    "* you can covert from one to the other very easily with the following commands "
   ]
  },
  {
   "cell_type": "code",
   "execution_count": 10,
   "metadata": {
    "slideshow": {
     "slide_type": "subslide"
    }
   },
   "outputs": [],
   "source": [
    "# astropy tables to pandas\n",
    "hps_pd_from_at = hps_at.to_pandas()\n",
    "\n",
    "# pandas to astropy table\n",
    "hps_at_from_pd = Table.from_pandas(hps_pd)"
   ]
  },
  {
   "cell_type": "markdown",
   "metadata": {
    "slideshow": {
     "slide_type": "slide"
    }
   },
   "source": [
    "# **From now on in this tutorial we will be using Pandas**\n",
    "* some of this functionality exists in Astropy Tables but not all of it. "
   ]
  },
  {
   "cell_type": "markdown",
   "metadata": {
    "slideshow": {
     "slide_type": "slide"
    }
   },
   "source": [
    "## Exploring your data set "
   ]
  },
  {
   "cell_type": "code",
   "execution_count": 11,
   "metadata": {
    "slideshow": {
     "slide_type": "slide"
    }
   },
   "outputs": [
    {
     "data": {
      "text/html": [
       "<div>\n",
       "<style scoped>\n",
       "    .dataframe tbody tr th:only-of-type {\n",
       "        vertical-align: middle;\n",
       "    }\n",
       "\n",
       "    .dataframe tbody tr th {\n",
       "        vertical-align: top;\n",
       "    }\n",
       "\n",
       "    .dataframe thead th {\n",
       "        text-align: right;\n",
       "    }\n",
       "</style>\n",
       "<table border=\"1\" class=\"dataframe\">\n",
       "  <thead>\n",
       "    <tr style=\"text-align: right;\">\n",
       "      <th></th>\n",
       "      <th>HPS</th>\n",
       "      <th>lambda</th>\n",
       "      <th>FWHM</th>\n",
       "      <th>S/N</th>\n",
       "      <th>Flux</th>\n",
       "      <th>Spat</th>\n",
       "      <th>mag</th>\n",
       "      <th>n_mag</th>\n",
       "      <th>Prob</th>\n",
       "      <th>EW</th>\n",
       "      <th>EWint</th>\n",
       "      <th>Trans</th>\n",
       "      <th>z</th>\n",
       "      <th>Lya</th>\n",
       "      <th>X-ray</th>\n",
       "      <th>RAJ2000</th>\n",
       "      <th>DEJ2000</th>\n",
       "    </tr>\n",
       "  </thead>\n",
       "  <tbody>\n",
       "    <tr>\n",
       "      <th>0</th>\n",
       "      <td>1</td>\n",
       "      <td>5219.16</td>\n",
       "      <td>229</td>\n",
       "      <td>8.1</td>\n",
       "      <td>17.4</td>\n",
       "      <td>4.7</td>\n",
       "      <td>23.05</td>\n",
       "      <td>R</td>\n",
       "      <td>0.93</td>\n",
       "      <td>51.9</td>\n",
       "      <td>62.9</td>\n",
       "      <td>[OII]</td>\n",
       "      <td>0.4004</td>\n",
       "      <td>0.07</td>\n",
       "      <td></td>\n",
       "      <td>02 21 11.16</td>\n",
       "      <td>-04 31 25.0</td>\n",
       "    </tr>\n",
       "    <tr>\n",
       "      <th>1</th>\n",
       "      <td>2</td>\n",
       "      <td>5448.72</td>\n",
       "      <td>307</td>\n",
       "      <td>5.6</td>\n",
       "      <td>12.2</td>\n",
       "      <td>4.3</td>\n",
       "      <td>23.17</td>\n",
       "      <td>R</td>\n",
       "      <td>0.96</td>\n",
       "      <td>42.0</td>\n",
       "      <td>59.8</td>\n",
       "      <td>[OII]</td>\n",
       "      <td>0.4620</td>\n",
       "      <td>0.04</td>\n",
       "      <td></td>\n",
       "      <td>02 21 12.21</td>\n",
       "      <td>-04 32 25.3</td>\n",
       "    </tr>\n",
       "    <tr>\n",
       "      <th>2</th>\n",
       "      <td>3</td>\n",
       "      <td>4973.93</td>\n",
       "      <td>422</td>\n",
       "      <td>7.5</td>\n",
       "      <td>19.9</td>\n",
       "      <td>4.4</td>\n",
       "      <td>24.31</td>\n",
       "      <td>R</td>\n",
       "      <td>0.98</td>\n",
       "      <td>58.8</td>\n",
       "      <td>109.0</td>\n",
       "      <td>Ly{alpha}</td>\n",
       "      <td>3.0915</td>\n",
       "      <td>1.00</td>\n",
       "      <td></td>\n",
       "      <td>02 21 14.28</td>\n",
       "      <td>-04 31 38.2</td>\n",
       "    </tr>\n",
       "    <tr>\n",
       "      <th>3</th>\n",
       "      <td>4</td>\n",
       "      <td>5261.37</td>\n",
       "      <td>1285</td>\n",
       "      <td>6.3</td>\n",
       "      <td>42.6</td>\n",
       "      <td>5.1</td>\n",
       "      <td>21.05</td>\n",
       "      <td>R</td>\n",
       "      <td>0.98</td>\n",
       "      <td>10.4</td>\n",
       "      <td>7.1</td>\n",
       "      <td>CIII]1909</td>\n",
       "      <td>1.7561</td>\n",
       "      <td>0.02</td>\n",
       "      <td>J0221151-043156</td>\n",
       "      <td>02 21 14.86</td>\n",
       "      <td>-04 31 56.6</td>\n",
       "    </tr>\n",
       "    <tr>\n",
       "      <th>4</th>\n",
       "      <td>5</td>\n",
       "      <td>4270.67</td>\n",
       "      <td>1841</td>\n",
       "      <td>33.1</td>\n",
       "      <td>342.1</td>\n",
       "      <td>4.8</td>\n",
       "      <td>21.05</td>\n",
       "      <td>R</td>\n",
       "      <td>1.00</td>\n",
       "      <td>54.9</td>\n",
       "      <td>55.1</td>\n",
       "      <td>CIV1549</td>\n",
       "      <td>1.7570</td>\n",
       "      <td>0.00</td>\n",
       "      <td>J0221151-043156</td>\n",
       "      <td>02 21 15.14</td>\n",
       "      <td>-04 31 54.0</td>\n",
       "    </tr>\n",
       "    <tr>\n",
       "      <th>5</th>\n",
       "      <td>6</td>\n",
       "      <td>4591.58</td>\n",
       "      <td>399</td>\n",
       "      <td>14.8</td>\n",
       "      <td>32.7</td>\n",
       "      <td>4.6</td>\n",
       "      <td>23.82</td>\n",
       "      <td>R</td>\n",
       "      <td>0.89</td>\n",
       "      <td>56.7</td>\n",
       "      <td>74.1</td>\n",
       "      <td>Ly{alpha}</td>\n",
       "      <td>2.7770</td>\n",
       "      <td>1.00</td>\n",
       "      <td></td>\n",
       "      <td>02 21 16.26</td>\n",
       "      <td>-04 29 32.8</td>\n",
       "    </tr>\n",
       "    <tr>\n",
       "      <th>6</th>\n",
       "      <td>7</td>\n",
       "      <td>5161.72</td>\n",
       "      <td>293</td>\n",
       "      <td>19.5</td>\n",
       "      <td>49.4</td>\n",
       "      <td>4.7</td>\n",
       "      <td>21.38</td>\n",
       "      <td>R</td>\n",
       "      <td>0.98</td>\n",
       "      <td>31.2</td>\n",
       "      <td>48.3</td>\n",
       "      <td>[OII]</td>\n",
       "      <td>0.3850</td>\n",
       "      <td>0.02</td>\n",
       "      <td></td>\n",
       "      <td>02 21 16.35</td>\n",
       "      <td>-04 31 14.6</td>\n",
       "    </tr>\n",
       "    <tr>\n",
       "      <th>7</th>\n",
       "      <td>8</td>\n",
       "      <td>5820.13</td>\n",
       "      <td>118</td>\n",
       "      <td>6.7</td>\n",
       "      <td>19.1</td>\n",
       "      <td>6.6</td>\n",
       "      <td>22.82</td>\n",
       "      <td>R</td>\n",
       "      <td>0.67</td>\n",
       "      <td>51.2</td>\n",
       "      <td>57.4</td>\n",
       "      <td>[OII]</td>\n",
       "      <td>0.5616</td>\n",
       "      <td>0.01</td>\n",
       "      <td></td>\n",
       "      <td>02 21 17.25</td>\n",
       "      <td>-04 27 55.7</td>\n",
       "    </tr>\n",
       "    <tr>\n",
       "      <th>8</th>\n",
       "      <td>9</td>\n",
       "      <td>5464.33</td>\n",
       "      <td>78</td>\n",
       "      <td>12.1</td>\n",
       "      <td>14.1</td>\n",
       "      <td>3.6</td>\n",
       "      <td>23.21</td>\n",
       "      <td>R</td>\n",
       "      <td>0.98</td>\n",
       "      <td>51.0</td>\n",
       "      <td>49.0</td>\n",
       "      <td>[OII]</td>\n",
       "      <td>0.4661</td>\n",
       "      <td>0.02</td>\n",
       "      <td></td>\n",
       "      <td>02 21 17.25</td>\n",
       "      <td>-04 30 10.4</td>\n",
       "    </tr>\n",
       "    <tr>\n",
       "      <th>9</th>\n",
       "      <td>10</td>\n",
       "      <td>4808.33</td>\n",
       "      <td>357</td>\n",
       "      <td>15.9</td>\n",
       "      <td>38.9</td>\n",
       "      <td>4.6</td>\n",
       "      <td>21.43</td>\n",
       "      <td>R</td>\n",
       "      <td>0.99</td>\n",
       "      <td>24.0</td>\n",
       "      <td>39.1</td>\n",
       "      <td>[OII]</td>\n",
       "      <td>0.2901</td>\n",
       "      <td>0.01</td>\n",
       "      <td></td>\n",
       "      <td>02 21 17.47</td>\n",
       "      <td>-04 27 30.6</td>\n",
       "    </tr>\n",
       "  </tbody>\n",
       "</table>\n",
       "</div>"
      ],
      "text/plain": [
       "   HPS   lambda  FWHM   S/N   Flux  Spat    mag n_mag  Prob    EW  EWint  \\\n",
       "0    1  5219.16   229   8.1   17.4   4.7  23.05     R  0.93  51.9   62.9   \n",
       "1    2  5448.72   307   5.6   12.2   4.3  23.17     R  0.96  42.0   59.8   \n",
       "2    3  4973.93   422   7.5   19.9   4.4  24.31     R  0.98  58.8  109.0   \n",
       "3    4  5261.37  1285   6.3   42.6   5.1  21.05     R  0.98  10.4    7.1   \n",
       "4    5  4270.67  1841  33.1  342.1   4.8  21.05     R  1.00  54.9   55.1   \n",
       "5    6  4591.58   399  14.8   32.7   4.6  23.82     R  0.89  56.7   74.1   \n",
       "6    7  5161.72   293  19.5   49.4   4.7  21.38     R  0.98  31.2   48.3   \n",
       "7    8  5820.13   118   6.7   19.1   6.6  22.82     R  0.67  51.2   57.4   \n",
       "8    9  5464.33    78  12.1   14.1   3.6  23.21     R  0.98  51.0   49.0   \n",
       "9   10  4808.33   357  15.9   38.9   4.6  21.43     R  0.99  24.0   39.1   \n",
       "\n",
       "         Trans       z   Lya             X-ray      RAJ2000      DEJ2000  \n",
       "0  [OII]        0.4004  0.07                    02 21 11.16  -04 31 25.0  \n",
       "1  [OII]        0.4620  0.04                    02 21 12.21  -04 32 25.3  \n",
       "2  Ly{alpha}    3.0915  1.00                    02 21 14.28  -04 31 38.2  \n",
       "3  CIII]1909    1.7561  0.02  J0221151-043156   02 21 14.86  -04 31 56.6  \n",
       "4  CIV1549      1.7570  0.00  J0221151-043156   02 21 15.14  -04 31 54.0  \n",
       "5  Ly{alpha}    2.7770  1.00                    02 21 16.26  -04 29 32.8  \n",
       "6  [OII]        0.3850  0.02                    02 21 16.35  -04 31 14.6  \n",
       "7  [OII]        0.5616  0.01                    02 21 17.25  -04 27 55.7  \n",
       "8  [OII]        0.4661  0.02                    02 21 17.25  -04 30 10.4  \n",
       "9  [OII]        0.2901  0.01                    02 21 17.47  -04 27 30.6  "
      ]
     },
     "execution_count": 11,
     "metadata": {},
     "output_type": "execute_result"
    }
   ],
   "source": [
    "hps_pd.head(10)\n",
    "#hps_pd.tail(10) #this command is simply commented out right now\n",
    "\n",
    "#using these commands, we can view the first or last entries in the dataset in order. we specify how many we want to \n",
    "#see based on python's zero-indexing"
   ]
  },
  {
   "cell_type": "code",
   "execution_count": 12,
   "metadata": {
    "slideshow": {
     "slide_type": "slide"
    }
   },
   "outputs": [
    {
     "data": {
      "text/plain": [
       "Index(['HPS', 'lambda', 'FWHM', 'S/N', 'Flux', 'Spat', 'mag', 'n_mag', 'Prob',\n",
       "       'EW', 'EWint', 'Trans', 'z', 'Lya', 'X-ray', 'RAJ2000', 'DEJ2000'],\n",
       "      dtype='object')"
      ]
     },
     "execution_count": 12,
     "metadata": {},
     "output_type": "execute_result"
    }
   ],
   "source": [
    "hps_pd.columns"
   ]
  },
  {
   "cell_type": "code",
   "execution_count": 13,
   "metadata": {
    "slideshow": {
     "slide_type": "slide"
    }
   },
   "outputs": [
    {
     "data": {
      "text/plain": [
       "array(['HPS', 'lambda', 'FWHM', 'S/N', 'Flux', 'Spat', 'mag', 'n_mag',\n",
       "       'Prob', 'EW', 'EWint', 'Trans', 'z', 'Lya', 'X-ray', 'RAJ2000',\n",
       "       'DEJ2000'], dtype=object)"
      ]
     },
     "execution_count": 13,
     "metadata": {},
     "output_type": "execute_result"
    }
   ],
   "source": [
    "hps_pd.columns.values"
   ]
  },
  {
   "cell_type": "code",
   "execution_count": null,
   "metadata": {
    "slideshow": {
     "slide_type": "slide"
    }
   },
   "outputs": [],
   "source": [
    "hps_pd.dtypes"
   ]
  },
  {
   "cell_type": "code",
   "execution_count": null,
   "metadata": {
    "slideshow": {
     "slide_type": "slide"
    }
   },
   "outputs": [],
   "source": [
    "hps_pd.describe()"
   ]
  },
  {
   "cell_type": "markdown",
   "metadata": {
    "slideshow": {
     "slide_type": "slide"
    }
   },
   "source": [
    "## Indexing Pandas dataframes\n",
    "* You can either index by the row and column number as you would in numpy \n",
    "* Or more commonly you use the columns names and the row index value\n",
    "* Pandas defults to using label indexing\n",
    "* For clarity pandas makes you specify if you using integer or label indexing\n",
    "    * this is neccessary because the columns names are allowed to be numbers \n",
    "    * without specifying pandas would not know if you mean column number 1 or the column named 1 \n",
    "   "
   ]
  },
  {
   "cell_type": "code",
   "execution_count": 14,
   "metadata": {
    "slideshow": {
     "slide_type": "slide"
    }
   },
   "outputs": [
    {
     "data": {
      "text/plain": [
       "0       51.9\n",
       "1       42.0\n",
       "2       58.8\n",
       "3       10.4\n",
       "4       54.9\n",
       "5       56.7\n",
       "6       31.2\n",
       "7       51.2\n",
       "8       51.0\n",
       "9       24.0\n",
       "10      40.8\n",
       "11       5.1\n",
       "12      62.9\n",
       "13      39.3\n",
       "14      10.7\n",
       "15      17.0\n",
       "16      36.4\n",
       "17      14.4\n",
       "18      24.3\n",
       "19      22.7\n",
       "20      29.5\n",
       "21     103.4\n",
       "22      27.1\n",
       "23      14.6\n",
       "24     158.9\n",
       "25      28.8\n",
       "26      29.4\n",
       "27      12.3\n",
       "28      21.9\n",
       "29       8.6\n",
       "       ...  \n",
       "449     22.2\n",
       "450      4.1\n",
       "451      5.2\n",
       "452      0.7\n",
       "453     33.3\n",
       "454      1.6\n",
       "455      3.4\n",
       "456      2.8\n",
       "457      7.0\n",
       "458     35.2\n",
       "459     18.9\n",
       "460     54.2\n",
       "461    195.4\n",
       "462     32.0\n",
       "463      6.7\n",
       "464     30.0\n",
       "465     31.0\n",
       "466    270.7\n",
       "467     39.6\n",
       "468     17.1\n",
       "469     30.2\n",
       "470     11.3\n",
       "471     15.4\n",
       "472     25.8\n",
       "473     68.6\n",
       "474     12.1\n",
       "475     22.1\n",
       "476     12.8\n",
       "477      1.4\n",
       "478     14.0\n",
       "Name: EW, Length: 479, dtype: float64"
      ]
     },
     "execution_count": 14,
     "metadata": {},
     "output_type": "execute_result"
    }
   ],
   "source": [
    "#label indexing\n",
    "\n",
    "#hps_pd['EW']\n",
    "#hps_pd.EW\n",
    "hps_pd.loc[:,'EW']"
   ]
  },
  {
   "cell_type": "code",
   "execution_count": null,
   "metadata": {
    "slideshow": {
     "slide_type": "slide"
    }
   },
   "outputs": [],
   "source": [
    "#You can ask for certian rows in that column\n",
    "hps_pd['EW'][2:5] "
   ]
  },
  {
   "cell_type": "code",
   "execution_count": null,
   "metadata": {
    "slideshow": {
     "slide_type": "slide"
    }
   },
   "outputs": [],
   "source": [
    "#can also get more than one column\n",
    "hps_pd.loc[:25,['Trans','Lya','S/N']]"
   ]
  },
  {
   "cell_type": "code",
   "execution_count": null,
   "metadata": {
    "slideshow": {
     "slide_type": "slide"
    }
   },
   "outputs": [],
   "source": [
    "#I want all of the detections at a z<0.5 with and EW>50\n",
    "\n",
    "#You can use the query function\n",
    "#hps_pd.query('(z < 0.5) & (EW > 50.)')\n",
    "\n",
    "#And you can also write it this way \n",
    "hps_pd.loc[(hps_pd.z < 0.5) & (hps_pd.EW > 50)]\n"
   ]
  },
  {
   "cell_type": "code",
   "execution_count": null,
   "metadata": {
    "slideshow": {
     "slide_type": "slide"
    }
   },
   "outputs": [],
   "source": [
    "#You can also index by location like you do in numpy using iloc\n",
    "\n",
    "#If you give it a single value it returns a series of that row number \n",
    "hps_pd.iloc[0]"
   ]
  },
  {
   "cell_type": "code",
   "execution_count": null,
   "metadata": {
    "slideshow": {
     "slide_type": "slide"
    }
   },
   "outputs": [],
   "source": [
    "# You can also give it a specific section of the table you want \n",
    "#format is [row_start:row_end, col_start:col_end]\n",
    "hps_pd.iloc[0:10, 2:6]"
   ]
  },
  {
   "cell_type": "code",
   "execution_count": null,
   "metadata": {
    "slideshow": {
     "slide_type": "slide"
    }
   },
   "outputs": [],
   "source": [
    "#It will also take a list of column numbers \n",
    "hps_pd.iloc[0:10, [1,4,6,9]]"
   ]
  },
  {
   "cell_type": "markdown",
   "metadata": {
    "slideshow": {
     "slide_type": "slide"
    }
   },
   "source": [
    "## Useful Functions\n",
    "* Pandas has a lot of useful built in functions \n",
    "* Pandas apply function allows you to operate a function on all values in a column/table"
   ]
  },
  {
   "cell_type": "code",
   "execution_count": null,
   "metadata": {
    "slideshow": {
     "slide_type": "subslide"
    }
   },
   "outputs": [],
   "source": [
    "hps_pd['Trans'].values"
   ]
  },
  {
   "cell_type": "code",
   "execution_count": null,
   "metadata": {
    "slideshow": {
     "slide_type": "slide"
    }
   },
   "outputs": [],
   "source": [
    "#You may notice when it read in the Trans column it added extra spaces making it difficult to query\n",
    "# You can use the apply function to strip each value in the Trans column \n",
    "# Anonymous (lambda) functions in python are a convienent way to write a one line function to operate over a variable\n",
    "# the strip() function strips a string of its whitespace\n",
    "hps_pd['Trans'] = hps_pd['Trans'].apply(lambda x: x.strip())\n",
    "\n",
    "#can ues the values function to return an array of just a columns values \n",
    "hps_pd['Trans'].values\n",
    "\n",
    "#an anonymous function is a function not defined using the 'def' command. We use lambda functions when we require a \n",
    "#nameless function for a short period of time."
   ]
  },
  {
   "cell_type": "code",
   "execution_count": null,
   "metadata": {
    "slideshow": {
     "slide_type": "slide"
    }
   },
   "outputs": [],
   "source": [
    "#find the unique types of emission line types \n",
    "emission_lines = hps_pd['Trans'].unique()\n",
    "emission_lines"
   ]
  },
  {
   "cell_type": "code",
   "execution_count": null,
   "metadata": {
    "slideshow": {
     "slide_type": "slide"
    }
   },
   "outputs": [],
   "source": [
    "#get an table of HPS ids, fluxes, and S/N for Ly{alpha} lines where the probablilty of it being Lya is greater than 50%\n",
    "hps_pd.query('(Trans == \"Ly{alpha}\") & (Lya > 0.5)').loc[:,['HPS','Flux','S/N']]"
   ]
  },
  {
   "cell_type": "code",
   "execution_count": null,
   "metadata": {
    "slideshow": {
     "slide_type": "slide"
    }
   },
   "outputs": [],
   "source": [
    "# you want the lya line with the largest flux \n",
    "max_lya_flux = hps_pd.query('(Trans == \"Ly{alpha}\") & (Lya > 0.5)')['Flux'].max()\n",
    "print('MAX Flux: ', max_lya_flux, '\\n')\n",
    "\n",
    "max_flux_obj = hps_pd.loc[hps_pd['Flux'] == max_lya_flux]\n",
    "print(max_flux_obj, '\\n')\n",
    "#hps_pd.iloc[max_lya_flux]"
   ]
  },
  {
   "cell_type": "code",
   "execution_count": null,
   "metadata": {
    "slideshow": {
     "slide_type": "slide"
    }
   },
   "outputs": [],
   "source": [
    "#want to know how many of each line\n",
    "hps_pd['Trans'].value_counts()"
   ]
  },
  {
   "cell_type": "code",
   "execution_count": null,
   "metadata": {
    "slideshow": {
     "slide_type": "slide"
    }
   },
   "outputs": [],
   "source": [
    "#count the number of LyA lines with a probablility greater than 50%\n",
    "hps_pd.query('(Trans == \"Ly{alpha}\") & (Lya > 0.5)')['HPS'].count()"
   ]
  },
  {
   "cell_type": "code",
   "execution_count": null,
   "metadata": {
    "slideshow": {
     "slide_type": "slide"
    }
   },
   "outputs": [],
   "source": [
    "#sort the LyA lines by the flux values in descending order \n",
    "LyA_sorted_by_flux = hps_pd.query('Trans == \"Ly{alpha}\"').sort_values('Flux', ascending=False)\n",
    "LyA_sorted_by_flux"
   ]
  },
  {
   "cell_type": "code",
   "execution_count": null,
   "metadata": {
    "slideshow": {
     "slide_type": "slide"
    }
   },
   "outputs": [],
   "source": [
    "#build function to give to apply for a column\n",
    "def AA_to_nm(wl):\n",
    "    wl = wl/10\n",
    "    return wl\n",
    "\n",
    "hps_pd['lambda'].apply(AA_to_nm)"
   ]
  },
  {
   "cell_type": "code",
   "execution_count": null,
   "metadata": {
    "slideshow": {
     "slide_type": "slide"
    }
   },
   "outputs": [],
   "source": [
    "#Here is a function that builds all of the RAj2000 and DEJ2000 values into actual astropy coordinates\n",
    "#It stores the coordinates in a new column in the dataframe called coord\n",
    "\n",
    "def build_astropy_coords(row):\n",
    "    ra  = row['RAJ2000'].split()\n",
    "    dec = row['DEJ2000'].split()\n",
    "    c = SkyCoord(ra[0]+'h'+ra[1]+'m'+ra[2]+'s', dec[0]+'d'+dec[1]+'m'+dec[2]+'s', frame='icrs')\n",
    "    return c\n",
    "\n",
    "#You give apply the function and the argument axis=1 to it feeds the function the rows of the dataframe\n",
    "#It stores these new values in a new column called coord\n",
    "hps_pd['coord'] = hps_pd.apply(build_astropy_coords, axis=1)\n",
    "\n",
    "#prints the new ra and dec of the stored coordinate for the first row\n",
    "#print(hps_pd['coord'][0].ra, hps_pd['coord'][0].dec)\n",
    "\n",
    "hps_pd.head()"
   ]
  },
  {
   "cell_type": "code",
   "execution_count": null,
   "metadata": {
    "slideshow": {
     "slide_type": "slide"
    }
   },
   "outputs": [],
   "source": [
    "#want to find all of the rows that have an x-ray detection \n",
    "\n",
    "#first want to replace all of the rows with nothing but spaces in the X-ray column with nan values \n",
    "hps_pd['X-ray'] = hps_pd['X-ray'].replace('                ', np.nan, regex=True)\n",
    "\n",
    "#use the drapna function to remove the rows without a detection. \n",
    "#the .index function returns the indecies of the columns with an x-ray detection\n",
    "#Then use the .loc function to find the rows with that index \n",
    "possible_AGN = hps_pd.loc[hps_pd['X-ray'].dropna().index]\n",
    "possible_AGN"
   ]
  },
  {
   "cell_type": "code",
   "execution_count": null,
   "metadata": {
    "slideshow": {
     "slide_type": "slide"
    }
   },
   "outputs": [],
   "source": [
    "#the dropna function had many arguments that make it very powerful. \n",
    "\n",
    "hps_drop_allNaN  = hps_pd.dropna()     #drop all rows that have any NaN values\n",
    "hps_drop_onlyNaN = hps_pd.dropna(how='all')     #drop only if ALL columns are NaN\n",
    "hps_drop_someNaN = hps_pd.dropna(thresh=3)   #Will only keep rows with 3 or more **not** NaN values\n",
    "\n",
    "#this is a better way of writing the line defining possible_AGN in the previous cell\n",
    "possible_AGN = hps_pd.dropna(subset=['X-ray'])   #Drop only if NaN in specific column \n",
    "possible_AGN"
   ]
  },
  {
   "cell_type": "code",
   "execution_count": null,
   "metadata": {
    "slideshow": {
     "slide_type": "slide"
    }
   },
   "outputs": [],
   "source": [
    "#changing/appending data \n",
    "#saw already how to rename columns but here is how to add/remove columns "
   ]
  },
  {
   "cell_type": "markdown",
   "metadata": {
    "slideshow": {
     "slide_type": "slide"
    }
   },
   "source": [
    "## Building groups\n",
    "* you can build groups based on column values \n",
    "* This could be really useful in this example to group by the line type (Trans column)\n",
    "* pandas provides many built-in operations on groups--e.g., mean, count, etc.\n",
    "* see http://pandas.pydata.org/pandas-docs/stable/groupby.html#groupby-object-attributes"
   ]
  },
  {
   "cell_type": "code",
   "execution_count": null,
   "metadata": {
    "slideshow": {
     "slide_type": "slide"
    }
   },
   "outputs": [],
   "source": [
    "\n",
    "# Split the dataset on Trans. This creates a pandas GroupBy object.\n",
    "lines = hps_pd.groupby('Trans')\n",
    "\n",
    "# You can call one of the groups by the name\n",
    "NeV_lines = lines.get_group(\"[NeV]3426\")\n",
    "print(NeV_lines)\n",
    "\n",
    "lines['Flux'].mean()\n",
    "\n",
    "# The above line can also be more explicitly written as:\n",
    "# groups['age'].aggregate('mean')"
   ]
  },
  {
   "cell_type": "markdown",
   "metadata": {
    "slideshow": {
     "slide_type": "slide"
    }
   },
   "source": [
    "## Types of joins\n",
    "* Joins allow you to join together different dataframes based on a key values (similar to SQL)\n",
    "* for more information see the [merging documentation](https://pandas.pydata.org/pandas-docs/stable/merging.html)\n",
    "* `left`  joins - Use keys from left frame only\n",
    "* `right` joins - Use keys from right frame only\n",
    "* `outer` joins - Use union of keys from both frames\n",
    "* `inner` joins - Use intersection of keys from both frames"
   ]
  },
  {
   "cell_type": "markdown",
   "metadata": {},
   "source": [
    "#### Diagram of joins\n",
    "<img src=\"https://i.stack.imgur.com/hMKKt.jpg\">"
   ]
  },
  {
   "cell_type": "code",
   "execution_count": null,
   "metadata": {
    "slideshow": {
     "slide_type": "slide"
    }
   },
   "outputs": [],
   "source": [
    "#Load in new a table from a paper to merge with the HPS catalog\n",
    "#Bridge et. al. 2014 derived properties from SED fitting for the OII emitters in the HPS catalog\n",
    "\n",
    "bridge_cols=['HPS_name', 'logM', 'logSFR', 'E(B-V)', 'OII_z']\n",
    "bridge = pd.read_table('bridge2015_cat.ascii', delim_whitespace=True, names=bridge_cols, skiprows=16)\n",
    "bridge"
   ]
  },
  {
   "cell_type": "code",
   "execution_count": null,
   "metadata": {
    "slideshow": {
     "slide_type": "slide"
    }
   },
   "outputs": [],
   "source": [
    "#We want to join this table with the HPS catalog\n",
    "#They share the common key (HPS id number) but they have different names in each table\n",
    "\n",
    "#We first change the name of the HPS id in the bridge dataframe\n",
    "bridge.rename(columns={'HPS_name':'HPS'}, inplace=True)\n",
    "\n",
    "#We can then merge the two dataframes on the key HPS\n",
    "#We use and inner join so that we only get rows back that have both HPS and bridge data\n",
    "#If we use any other join it would fill in the missing data with NaNs \n",
    "HPS_OII = pd.merge(hps_pd, bridge, how='inner', on=['HPS'])\n",
    "HPS_OII"
   ]
  },
  {
   "cell_type": "markdown",
   "metadata": {
    "slideshow": {
     "slide_type": "slide"
    }
   },
   "source": [
    "#### Here is an example of a outer join\n",
    "* In this case we want to preserve all of the rows in the HPS catalog \n",
    "* but when we can we want to add a value for the field that emission line was found in"
   ]
  },
  {
   "cell_type": "code",
   "execution_count": null,
   "metadata": {},
   "outputs": [],
   "source": [
    "#read in the table from the vizier catalog that contains the information on the fields observed \n",
    "hps_fields = pd.read_table('hps_fields.txt', delimiter=None, header=50, skiprows=[52,53])\n",
    "print(hps_fields)"
   ]
  },
  {
   "cell_type": "code",
   "execution_count": null,
   "metadata": {
    "scrolled": true,
    "slideshow": {
     "slide_type": "slide"
    }
   },
   "outputs": [],
   "source": [
    "#this function just finds the hour of the RA in the column 'RAJ2000'\n",
    "def find_RA_hour(row):\n",
    "    ra_h = row['RAJ2000'].split()[0] \n",
    "    return ra_h\n",
    "\n",
    "#apply this function to build an RA_hour column in the hps dataframe\n",
    "hps_pd['RA_hour'] = hps_pd.apply(find_RA_hour, axis=1)\n",
    "print(hps_pd['RA_hour'].unique())\n",
    "\n",
    "#apply this function to build an RA_hour column in the hps_fields dataframe\n",
    "hps_fields['RA_hour'] = hps_fields.apply(find_RA_hour, axis=1)\n",
    "\n",
    "#we only want to add the field name to the hps dataframe so this is just the Field column and the RA_hour to merge on\n",
    "fields = hps_fields.loc[:,['Field','RA_hour']]\n",
    "\n",
    "#We can then join the two databases to add the field column to the hps dataframe\n",
    "hps_join_fields = pd.merge(hps_pd, fields, how='outer', on=['RA_hour'])\n",
    "hps_join_fields.head(10)"
   ]
  },
  {
   "cell_type": "markdown",
   "metadata": {
    "slideshow": {
     "slide_type": "slide"
    }
   },
   "source": [
    "### Creating crosstabs \n",
    "* This is a useful tool that lets you analzye columns against eachother "
   ]
  },
  {
   "cell_type": "code",
   "execution_count": null,
   "metadata": {
    "slideshow": {
     "slide_type": "subslide"
    }
   },
   "outputs": [],
   "source": [
    "#You want to know how many of each line is in each field\n",
    "\n",
    "#creating crosstabs from groups\n",
    "ctab = pd.crosstab(hps_join_fields['Trans'], hps_join_fields['Field'])\n",
    "\n",
    "#You can also normalize the crosstab\n",
    "#ctab = pd.crosstab(hps_join_fields['Trans'], hps_join_fields['Field'], normalize='index')\n",
    "\n",
    "order = ctab.sum(1).sort_values(ascending=False).index\n",
    "ctab = ctab.loc[order, :]\n",
    "\n",
    "ctab"
   ]
  },
  {
   "cell_type": "markdown",
   "metadata": {
    "slideshow": {
     "slide_type": "slide"
    }
   },
   "source": [
    "## Saving dataframes \n",
    "* This can be done in one line with both pandas and astropy tables \n",
    "* For the most part the format of the output does not matter since it is just going to be loaded in as a dataframe later\n",
    "* in Pandas you can save the dataframe as a .csv or pickle file (may be more efficient for large files) \n",
    "* There are a lot more options for astropy tables \n",
    "    * basically any file you can load in you can save that file as the any of those outputs\n",
    "    * the most useful thing is you can save a datafame as a latex deluxe table "
   ]
  },
  {
   "cell_type": "code",
   "execution_count": null,
   "metadata": {
    "slideshow": {
     "slide_type": "slide"
    }
   },
   "outputs": [],
   "source": [
    "#saving dataframes in Pandas \n",
    "HPS_OII.to_csv('bridge_HPS_cat.csv')\n",
    "\n",
    "#saving astropy table as a deluxe latex table \n",
    "#Here is an example of how we could make a table of just the possible AGN\n",
    "hps_at_OII = hps_at[hps_at['Trans'] == '[OII]']\n",
    "hps_at_OII.write('HPS_OII_table.tex', format='ascii.aastex')"
   ]
  },
  {
   "cell_type": "markdown",
   "metadata": {
    "slideshow": {
     "slide_type": "slide"
    }
   },
   "source": [
    "## Pandas makes it easy to do statistics on columns and the entire dataframe\n",
    "* The describe function we saw earlier is customizable "
   ]
  },
  {
   "cell_type": "code",
   "execution_count": null,
   "metadata": {
    "slideshow": {
     "slide_type": "subslide"
    }
   },
   "outputs": [],
   "source": [
    "#statistics with panadas \n",
    "\n",
    "print(hps_pd.query('Trans == \"[OII]\"')['EW'].mean())\n",
    "print(hps_pd.query('Trans == \"[OII]\"')['EW'].std())\n",
    "\n",
    "# Describe the continuous variables in the dataset.\n",
    "# We can also include categoricals, or select other percentiles.\n",
    "#hps_pd.describe(percentiles=[0.1, 0.9]).round(2)\n",
    "\n",
    "#lines.get_group('[OII]').describe()"
   ]
  },
  {
   "cell_type": "markdown",
   "metadata": {
    "slideshow": {
     "slide_type": "slide"
    }
   },
   "source": [
    "## Data visualization using Pandas dataframes"
   ]
  },
  {
   "cell_type": "markdown",
   "metadata": {
    "slideshow": {
     "slide_type": "slide"
    }
   },
   "source": [
    "### Easy plotting with Matplotlib using Pandas columns"
   ]
  },
  {
   "cell_type": "code",
   "execution_count": null,
   "metadata": {
    "slideshow": {
     "slide_type": "subslide"
    }
   },
   "outputs": [],
   "source": [
    "#It is easy to plot in matplotlib by giving it pandas columns \n",
    "\n",
    "# Scatterplot of mass vs. SFR for the OII emitters from the Bridge et. al. 2014 paper\n",
    "plt.scatter(HPS_OII['logM'], HPS_OII['logSFR'], color='green', s=30)\n",
    "plt.xlabel(\"log(M)\")\n",
    "plt.ylabel(\"log(SFR)\")\n",
    "plt.title(\"Mass vs. SFR for the OII emitters in HPS\", fontsize=16);"
   ]
  },
  {
   "cell_type": "markdown",
   "metadata": {
    "slideshow": {
     "slide_type": "slide"
    }
   },
   "source": [
    "### Plotting in Seaborn with dataframes"
   ]
  },
  {
   "cell_type": "code",
   "execution_count": null,
   "metadata": {
    "slideshow": {
     "slide_type": "subslide"
    }
   },
   "outputs": [],
   "source": [
    "#The crosstab we made can be easily plotted as a headmap \n",
    "ax = sns.heatmap(ctab[:12], annot=True, fmt='d', linewidths=.5,\n",
    "                 annot_kws={'size': 14}, cmap='Blues')\n",
    "\n",
    "# Customize the label size and figure size in base matplotlib.\n",
    "# Notice we can access all axis and figure properties through\n",
    "# # the handle we saved when calling seaborn.\n",
    "ax.tick_params(labelsize=14)\n",
    "ax.figure.set_size_inches((7, 8))  # update the plot size"
   ]
  },
  {
   "cell_type": "code",
   "execution_count": null,
   "metadata": {
    "slideshow": {
     "slide_type": "slide"
    }
   },
   "outputs": [],
   "source": [
    "# Plot a heatmap of pairwise correlations between all continuous variables\n",
    "r = HPS_OII.corr().round(2)\n",
    "\n",
    "with sns.plotting_context(\"notebook\", font_scale=1.1):\n",
    "    ax = sns.heatmap(r, annot=True)\n",
    "    ax.figure.set_size_inches((12, 9.5))"
   ]
  },
  {
   "cell_type": "code",
   "execution_count": null,
   "metadata": {
    "slideshow": {
     "slide_type": "slide"
    }
   },
   "outputs": [],
   "source": [
    "#pairplots from a select group of columns for the OII catalog\n",
    "\n",
    "tmp_data = HPS_OII.loc[:,['Flux', 'logM', 'logSFR', 'E(B-V)','z']]\n",
    "\n",
    "with sns.plotting_context(\"notebook\", font_scale=1.3):  # Make text bigger\n",
    "    sns.pairplot(tmp_data, diag_kind='hist', kind='reg')"
   ]
  },
  {
   "cell_type": "code",
   "execution_count": null,
   "metadata": {},
   "outputs": [],
   "source": [
    "g = sns.jointplot(x=\"logM\", y=\"logSFR\", data=HPS_OII, kind=\"kde\", color=\"purple\")\n",
    "g.plot_joint(plt.scatter, c=\"white\", s=30, linewidth=1, marker=\"+\")\n",
    "g.ax_joint.collections[0].set_alpha(0)\n",
    "g.set_axis_labels(\"$logM$\", \"$logSFR$\");"
   ]
  },
  {
   "cell_type": "code",
   "execution_count": null,
   "metadata": {},
   "outputs": [],
   "source": [
    "f, ax = plt.subplots(figsize=(6, 6))\n",
    "cmap = sns.cubehelix_palette(as_cmap=True, dark=0, light=1, reverse=True)\n",
    "g = sns.kdeplot(HPS_OII.logM, HPS_OII.logSFR, cmap=cmap, n_levels=60, shade=True)"
   ]
  },
  {
   "cell_type": "markdown",
   "metadata": {
    "slideshow": {
     "slide_type": "slide"
    }
   },
   "source": [
    "### Plotting in Pandas "
   ]
  },
  {
   "cell_type": "code",
   "execution_count": null,
   "metadata": {},
   "outputs": [],
   "source": [
    "HPS_OII.plot.scatter(x='logM', y='logSFR')"
   ]
  },
  {
   "cell_type": "code",
   "execution_count": null,
   "metadata": {},
   "outputs": [],
   "source": [
    "HPS_OII.plot.scatter(x='logM', y='logSFR', c='E(B-V)', s=50)"
   ]
  },
  {
   "cell_type": "code",
   "execution_count": null,
   "metadata": {
    "slideshow": {
     "slide_type": "subslide"
    }
   },
   "outputs": [],
   "source": [
    "#Only want to plot histogram for lines with more than 15 detections\n",
    "many_detections = hps_pd.groupby('Trans').filter(lambda x: len(x)>15)\n",
    "\n",
    "# Plot flux histograms for all line types--with shared x-axis\n",
    "many_detections['Flux'].hist(by=many_detections['Trans'], bins=20, sharex=True);\n",
    "\n",
    "# Embiggen the figure a bit\n",
    "plt.gcf().set_size_inches((10, 10))"
   ]
  },
  {
   "cell_type": "code",
   "execution_count": null,
   "metadata": {},
   "outputs": [],
   "source": [
    "line_counts = hps_pd['Trans'].value_counts()\n",
    "print(line_counts)\n",
    "\n",
    "many_.plot.pie(subplots=True, autopct='%.2f', fontsize=15, figsize=(8, 8))"
   ]
  },
  {
   "cell_type": "code",
   "execution_count": null,
   "metadata": {},
   "outputs": [],
   "source": []
  }
 ],
 "metadata": {
  "celltoolbar": "Slideshow",
  "kernelspec": {
   "display_name": "Python 3",
   "language": "python",
   "name": "python3"
  },
  "language_info": {
   "codemirror_mode": {
    "name": "ipython",
    "version": 3
   },
   "file_extension": ".py",
   "mimetype": "text/x-python",
   "name": "python",
   "nbconvert_exporter": "python",
   "pygments_lexer": "ipython3",
   "version": "3.6.5"
  },
  "widgets": {
   "application/vnd.jupyter.widget-state+json": {
    "state": {},
    "version_major": 2,
    "version_minor": 0
   }
  }
 },
 "nbformat": 4,
 "nbformat_minor": 2
}
